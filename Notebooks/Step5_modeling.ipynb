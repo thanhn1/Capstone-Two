{
 "cells": [
  {
   "cell_type": "markdown",
   "id": "598d844d",
   "metadata": {},
   "source": [
    "# 5) Modeling"
   ]
  },
  {
   "cell_type": "markdown",
   "id": "ec2801db",
   "metadata": {},
   "source": [
    "Table of Content here"
   ]
  },
  {
   "cell_type": "markdown",
   "id": "3916c0c8",
   "metadata": {},
   "source": [
    "## 5.1) Import necessary packages and load data"
   ]
  },
  {
   "cell_type": "code",
   "execution_count": 1,
   "id": "3117253c",
   "metadata": {},
   "outputs": [],
   "source": [
    "# Import packages\n",
    "import pandas as pd\n",
    "import numpy as np\n",
    "\n",
    "from sklearn.model_selection import train_test_split\n",
    "from sklearn.ensemble import RandomForestClassifier"
   ]
  },
  {
   "cell_type": "code",
   "execution_count": 36,
   "id": "13f31f1a",
   "metadata": {},
   "outputs": [],
   "source": [
    "import matplotlib.pyplot as plt"
   ]
  },
  {
   "cell_type": "code",
   "execution_count": 10,
   "id": "de675b3b",
   "metadata": {},
   "outputs": [],
   "source": [
    "from sklearn.model_selection import KFold, cross_val_score"
   ]
  },
  {
   "cell_type": "code",
   "execution_count": 13,
   "id": "3e58932d",
   "metadata": {},
   "outputs": [],
   "source": [
    "from sklearn.metrics import precision_recall_fscore_support as score"
   ]
  },
  {
   "cell_type": "code",
   "execution_count": 29,
   "id": "61491423",
   "metadata": {},
   "outputs": [],
   "source": [
    "from sklearn.metrics import roc_curve, roc_auc_score"
   ]
  },
  {
   "cell_type": "code",
   "execution_count": 14,
   "id": "03b6b12f",
   "metadata": {},
   "outputs": [],
   "source": [
    "from sklearn.model_selection import GridSearchCV"
   ]
  },
  {
   "cell_type": "code",
   "execution_count": 3,
   "id": "6837c310",
   "metadata": {},
   "outputs": [
    {
     "name": "stdout",
     "output_type": "stream",
     "text": [
      "(1885, 43)\n"
     ]
    },
    {
     "data": {
      "text/html": [
       "<div>\n",
       "<style scoped>\n",
       "    .dataframe tbody tr th:only-of-type {\n",
       "        vertical-align: middle;\n",
       "    }\n",
       "\n",
       "    .dataframe tbody tr th {\n",
       "        vertical-align: top;\n",
       "    }\n",
       "\n",
       "    .dataframe thead th {\n",
       "        text-align: right;\n",
       "    }\n",
       "</style>\n",
       "<table border=\"1\" class=\"dataframe\">\n",
       "  <thead>\n",
       "    <tr style=\"text-align: right;\">\n",
       "      <th></th>\n",
       "      <th>age25-34</th>\n",
       "      <th>age35-44</th>\n",
       "      <th>age45-54</th>\n",
       "      <th>age55-64</th>\n",
       "      <th>age65+</th>\n",
       "      <th>Male</th>\n",
       "      <th>Edu_gr2</th>\n",
       "      <th>Edu_gr3</th>\n",
       "      <th>Edu_gr4</th>\n",
       "      <th>Edu_gr5</th>\n",
       "      <th>...</th>\n",
       "      <th>Education_level</th>\n",
       "      <th>Education</th>\n",
       "      <th>Country</th>\n",
       "      <th>Ethnicity</th>\n",
       "      <th>Age_level</th>\n",
       "      <th>Amyl_binary</th>\n",
       "      <th>Amyl_user</th>\n",
       "      <th>Cannabis_binary</th>\n",
       "      <th>Cannabis_user</th>\n",
       "      <th>Edu_gr</th>\n",
       "    </tr>\n",
       "  </thead>\n",
       "  <tbody>\n",
       "    <tr>\n",
       "      <th>0</th>\n",
       "      <td>0</td>\n",
       "      <td>1</td>\n",
       "      <td>0</td>\n",
       "      <td>0</td>\n",
       "      <td>0</td>\n",
       "      <td>0</td>\n",
       "      <td>0</td>\n",
       "      <td>1</td>\n",
       "      <td>0</td>\n",
       "      <td>0</td>\n",
       "      <td>...</td>\n",
       "      <td>6</td>\n",
       "      <td>Professional certificate</td>\n",
       "      <td>UK</td>\n",
       "      <td>Mixed-White/Asian</td>\n",
       "      <td>3</td>\n",
       "      <td>Non-user</td>\n",
       "      <td>0</td>\n",
       "      <td>Non-user</td>\n",
       "      <td>0</td>\n",
       "      <td>Edu_gr3</td>\n",
       "    </tr>\n",
       "    <tr>\n",
       "      <th>1</th>\n",
       "      <td>1</td>\n",
       "      <td>0</td>\n",
       "      <td>0</td>\n",
       "      <td>0</td>\n",
       "      <td>0</td>\n",
       "      <td>1</td>\n",
       "      <td>0</td>\n",
       "      <td>0</td>\n",
       "      <td>0</td>\n",
       "      <td>1</td>\n",
       "      <td>...</td>\n",
       "      <td>9</td>\n",
       "      <td>Doctorate degree</td>\n",
       "      <td>UK</td>\n",
       "      <td>White</td>\n",
       "      <td>2</td>\n",
       "      <td>User</td>\n",
       "      <td>1</td>\n",
       "      <td>User</td>\n",
       "      <td>1</td>\n",
       "      <td>Edu_gr5</td>\n",
       "    </tr>\n",
       "    <tr>\n",
       "      <th>2</th>\n",
       "      <td>0</td>\n",
       "      <td>1</td>\n",
       "      <td>0</td>\n",
       "      <td>0</td>\n",
       "      <td>0</td>\n",
       "      <td>1</td>\n",
       "      <td>0</td>\n",
       "      <td>1</td>\n",
       "      <td>0</td>\n",
       "      <td>0</td>\n",
       "      <td>...</td>\n",
       "      <td>6</td>\n",
       "      <td>Professional certificate</td>\n",
       "      <td>UK</td>\n",
       "      <td>White</td>\n",
       "      <td>3</td>\n",
       "      <td>Non-user</td>\n",
       "      <td>0</td>\n",
       "      <td>User</td>\n",
       "      <td>1</td>\n",
       "      <td>Edu_gr3</td>\n",
       "    </tr>\n",
       "    <tr>\n",
       "      <th>3</th>\n",
       "      <td>0</td>\n",
       "      <td>0</td>\n",
       "      <td>0</td>\n",
       "      <td>0</td>\n",
       "      <td>0</td>\n",
       "      <td>0</td>\n",
       "      <td>0</td>\n",
       "      <td>0</td>\n",
       "      <td>0</td>\n",
       "      <td>1</td>\n",
       "      <td>...</td>\n",
       "      <td>8</td>\n",
       "      <td>Masters degree</td>\n",
       "      <td>UK</td>\n",
       "      <td>White</td>\n",
       "      <td>1</td>\n",
       "      <td>Non-user</td>\n",
       "      <td>0</td>\n",
       "      <td>User</td>\n",
       "      <td>1</td>\n",
       "      <td>Edu_gr5</td>\n",
       "    </tr>\n",
       "    <tr>\n",
       "      <th>4</th>\n",
       "      <td>0</td>\n",
       "      <td>1</td>\n",
       "      <td>0</td>\n",
       "      <td>0</td>\n",
       "      <td>0</td>\n",
       "      <td>0</td>\n",
       "      <td>0</td>\n",
       "      <td>0</td>\n",
       "      <td>0</td>\n",
       "      <td>1</td>\n",
       "      <td>...</td>\n",
       "      <td>9</td>\n",
       "      <td>Doctorate degree</td>\n",
       "      <td>UK</td>\n",
       "      <td>White</td>\n",
       "      <td>3</td>\n",
       "      <td>Non-user</td>\n",
       "      <td>0</td>\n",
       "      <td>User</td>\n",
       "      <td>1</td>\n",
       "      <td>Edu_gr5</td>\n",
       "    </tr>\n",
       "  </tbody>\n",
       "</table>\n",
       "<p>5 rows × 43 columns</p>\n",
       "</div>"
      ],
      "text/plain": [
       "   age25-34  age35-44  age45-54  age55-64  age65+  Male  Edu_gr2  Edu_gr3  \\\n",
       "0         0         1         0         0       0     0        0        1   \n",
       "1         1         0         0         0       0     1        0        0   \n",
       "2         0         1         0         0       0     1        0        1   \n",
       "3         0         0         0         0       0     0        0        0   \n",
       "4         0         1         0         0       0     0        0        0   \n",
       "\n",
       "   Edu_gr4  Edu_gr5  ...  Education_level                 Education  Country  \\\n",
       "0        0        0  ...                6  Professional certificate       UK   \n",
       "1        0        1  ...                9          Doctorate degree       UK   \n",
       "2        0        0  ...                6  Professional certificate       UK   \n",
       "3        0        1  ...                8            Masters degree       UK   \n",
       "4        0        1  ...                9          Doctorate degree       UK   \n",
       "\n",
       "           Ethnicity  Age_level  Amyl_binary  Amyl_user  Cannabis_binary  \\\n",
       "0  Mixed-White/Asian          3     Non-user          0         Non-user   \n",
       "1              White          2         User          1             User   \n",
       "2              White          3     Non-user          0             User   \n",
       "3              White          1     Non-user          0             User   \n",
       "4              White          3     Non-user          0             User   \n",
       "\n",
       "   Cannabis_user   Edu_gr  \n",
       "0              0  Edu_gr3  \n",
       "1              1  Edu_gr5  \n",
       "2              1  Edu_gr3  \n",
       "3              1  Edu_gr5  \n",
       "4              1  Edu_gr5  \n",
       "\n",
       "[5 rows x 43 columns]"
      ]
     },
     "execution_count": 3,
     "metadata": {},
     "output_type": "execute_result"
    }
   ],
   "source": [
    "# Read in the latest dataset\n",
    "drug_2 = pd.read_csv('../data/drug_2.csv', index_col=0)\n",
    "print(drug_2.shape)\n",
    "drug_2.head()"
   ]
  },
  {
   "cell_type": "code",
   "execution_count": null,
   "id": "64be835b",
   "metadata": {},
   "outputs": [],
   "source": []
  },
  {
   "cell_type": "markdown",
   "id": "b1aab2d6",
   "metadata": {},
   "source": [
    "## 5.2) Modeling Amyl consumption with Age as numerical type\n",
    "There are two approaches to treat Age:\n",
    "i) Consider Age as numerical type. That is to use 'Age_value' as feature (Age_value has 6 levels).\n",
    "ii) Consider Age as categorical type. That is to use dummies 'age25_34', 'age35_44' and so.\n",
    "In this section we will do the first approach. And the next section do the second. "
   ]
  },
  {
   "cell_type": "markdown",
   "id": "8bb5cc5b",
   "metadata": {},
   "source": [
    "### 5.2.1) Train and test split"
   ]
  },
  {
   "cell_type": "code",
   "execution_count": 4,
   "id": "25a4d067",
   "metadata": {},
   "outputs": [
    {
     "data": {
      "text/html": [
       "<div>\n",
       "<style scoped>\n",
       "    .dataframe tbody tr th:only-of-type {\n",
       "        vertical-align: middle;\n",
       "    }\n",
       "\n",
       "    .dataframe tbody tr th {\n",
       "        vertical-align: top;\n",
       "    }\n",
       "\n",
       "    .dataframe thead th {\n",
       "        text-align: right;\n",
       "    }\n",
       "</style>\n",
       "<table border=\"1\" class=\"dataframe\">\n",
       "  <thead>\n",
       "    <tr style=\"text-align: right;\">\n",
       "      <th></th>\n",
       "      <th>Male</th>\n",
       "      <th>Edu_gr2</th>\n",
       "      <th>Edu_gr3</th>\n",
       "      <th>Edu_gr4</th>\n",
       "      <th>Edu_gr5</th>\n",
       "      <th>Canada</th>\n",
       "      <th>New Zealand</th>\n",
       "      <th>Other</th>\n",
       "      <th>Republic of Ireland</th>\n",
       "      <th>UK</th>\n",
       "      <th>USA</th>\n",
       "      <th>Age_value</th>\n",
       "      <th>Nscore</th>\n",
       "      <th>Escore</th>\n",
       "      <th>Oscore</th>\n",
       "      <th>Ascore</th>\n",
       "      <th>Cscore</th>\n",
       "      <th>Impulsive</th>\n",
       "      <th>SS</th>\n",
       "    </tr>\n",
       "  </thead>\n",
       "  <tbody>\n",
       "    <tr>\n",
       "      <th>0</th>\n",
       "      <td>0</td>\n",
       "      <td>0</td>\n",
       "      <td>1</td>\n",
       "      <td>0</td>\n",
       "      <td>0</td>\n",
       "      <td>0</td>\n",
       "      <td>0</td>\n",
       "      <td>0</td>\n",
       "      <td>0</td>\n",
       "      <td>1</td>\n",
       "      <td>0</td>\n",
       "      <td>0.49788</td>\n",
       "      <td>0.31287</td>\n",
       "      <td>-0.57545</td>\n",
       "      <td>-0.58331</td>\n",
       "      <td>-0.91699</td>\n",
       "      <td>-0.00665</td>\n",
       "      <td>-0.21712</td>\n",
       "      <td>-1.18084</td>\n",
       "    </tr>\n",
       "    <tr>\n",
       "      <th>1</th>\n",
       "      <td>1</td>\n",
       "      <td>0</td>\n",
       "      <td>0</td>\n",
       "      <td>0</td>\n",
       "      <td>1</td>\n",
       "      <td>0</td>\n",
       "      <td>0</td>\n",
       "      <td>0</td>\n",
       "      <td>0</td>\n",
       "      <td>1</td>\n",
       "      <td>0</td>\n",
       "      <td>-0.07854</td>\n",
       "      <td>-0.67825</td>\n",
       "      <td>1.93886</td>\n",
       "      <td>1.43533</td>\n",
       "      <td>0.76096</td>\n",
       "      <td>-0.14277</td>\n",
       "      <td>-0.71126</td>\n",
       "      <td>-0.21575</td>\n",
       "    </tr>\n",
       "    <tr>\n",
       "      <th>2</th>\n",
       "      <td>1</td>\n",
       "      <td>0</td>\n",
       "      <td>1</td>\n",
       "      <td>0</td>\n",
       "      <td>0</td>\n",
       "      <td>0</td>\n",
       "      <td>0</td>\n",
       "      <td>0</td>\n",
       "      <td>0</td>\n",
       "      <td>1</td>\n",
       "      <td>0</td>\n",
       "      <td>0.49788</td>\n",
       "      <td>-0.46725</td>\n",
       "      <td>0.80523</td>\n",
       "      <td>-0.84732</td>\n",
       "      <td>-1.62090</td>\n",
       "      <td>-1.01450</td>\n",
       "      <td>-1.37983</td>\n",
       "      <td>0.40148</td>\n",
       "    </tr>\n",
       "    <tr>\n",
       "      <th>3</th>\n",
       "      <td>0</td>\n",
       "      <td>0</td>\n",
       "      <td>0</td>\n",
       "      <td>0</td>\n",
       "      <td>1</td>\n",
       "      <td>0</td>\n",
       "      <td>0</td>\n",
       "      <td>0</td>\n",
       "      <td>0</td>\n",
       "      <td>1</td>\n",
       "      <td>0</td>\n",
       "      <td>-0.95197</td>\n",
       "      <td>-0.14882</td>\n",
       "      <td>-0.80615</td>\n",
       "      <td>-0.01928</td>\n",
       "      <td>0.59042</td>\n",
       "      <td>0.58489</td>\n",
       "      <td>-1.37983</td>\n",
       "      <td>-1.18084</td>\n",
       "    </tr>\n",
       "    <tr>\n",
       "      <th>4</th>\n",
       "      <td>0</td>\n",
       "      <td>0</td>\n",
       "      <td>0</td>\n",
       "      <td>0</td>\n",
       "      <td>1</td>\n",
       "      <td>0</td>\n",
       "      <td>0</td>\n",
       "      <td>0</td>\n",
       "      <td>0</td>\n",
       "      <td>1</td>\n",
       "      <td>0</td>\n",
       "      <td>0.49788</td>\n",
       "      <td>0.73545</td>\n",
       "      <td>-1.63340</td>\n",
       "      <td>-0.45174</td>\n",
       "      <td>-0.30172</td>\n",
       "      <td>1.30612</td>\n",
       "      <td>-0.21712</td>\n",
       "      <td>-0.21575</td>\n",
       "    </tr>\n",
       "  </tbody>\n",
       "</table>\n",
       "</div>"
      ],
      "text/plain": [
       "   Male  Edu_gr2  Edu_gr3  Edu_gr4  Edu_gr5  Canada  New Zealand  Other  \\\n",
       "0     0        0        1        0        0       0            0      0   \n",
       "1     1        0        0        0        1       0            0      0   \n",
       "2     1        0        1        0        0       0            0      0   \n",
       "3     0        0        0        0        1       0            0      0   \n",
       "4     0        0        0        0        1       0            0      0   \n",
       "\n",
       "   Republic of Ireland  UK  USA  Age_value   Nscore   Escore   Oscore  \\\n",
       "0                    0   1    0    0.49788  0.31287 -0.57545 -0.58331   \n",
       "1                    0   1    0   -0.07854 -0.67825  1.93886  1.43533   \n",
       "2                    0   1    0    0.49788 -0.46725  0.80523 -0.84732   \n",
       "3                    0   1    0   -0.95197 -0.14882 -0.80615 -0.01928   \n",
       "4                    0   1    0    0.49788  0.73545 -1.63340 -0.45174   \n",
       "\n",
       "    Ascore   Cscore  Impulsive       SS  \n",
       "0 -0.91699 -0.00665   -0.21712 -1.18084  \n",
       "1  0.76096 -0.14277   -0.71126 -0.21575  \n",
       "2 -1.62090 -1.01450   -1.37983  0.40148  \n",
       "3  0.59042  0.58489   -1.37983 -1.18084  \n",
       "4 -0.30172  1.30612   -0.21712 -0.21575  "
      ]
     },
     "execution_count": 4,
     "metadata": {},
     "output_type": "execute_result"
    }
   ],
   "source": [
    "col_list = ['Male', 'Edu_gr2', 'Edu_gr3', 'Edu_gr4', 'Edu_gr5', 'Canada', 'New Zealand', 'Other', 'Republic of Ireland', \n",
    "            'UK', 'USA', 'Age_value', 'Nscore', 'Escore', 'Oscore', 'Ascore', 'Cscore', 'Impulsive', 'SS']\n",
    "X = drug_2[col_list]\n",
    "X.head()"
   ]
  },
  {
   "cell_type": "code",
   "execution_count": 5,
   "id": "e05e93c9",
   "metadata": {},
   "outputs": [
    {
     "data": {
      "text/plain": [
       "0    0\n",
       "1    1\n",
       "2    0\n",
       "3    0\n",
       "4    0\n",
       "Name: Amyl_user, dtype: int64"
      ]
     },
     "execution_count": 5,
     "metadata": {},
     "output_type": "execute_result"
    }
   ],
   "source": [
    "y = drug_2['Amyl_user']\n",
    "y.head()"
   ]
  },
  {
   "cell_type": "code",
   "execution_count": 6,
   "id": "9b1dcbd2",
   "metadata": {},
   "outputs": [
    {
     "name": "stdout",
     "output_type": "stream",
     "text": [
      "(1508, 19) (1508,)\n",
      "(377, 19) (377,)\n"
     ]
    }
   ],
   "source": [
    "X_train, X_test, y_train, y_test = train_test_split(X, y, test_size=0.20, random_state=12)\n",
    "print(X_train.shape, y_train.shape)\n",
    "print(X_test.shape, y_test.shape)"
   ]
  },
  {
   "cell_type": "markdown",
   "id": "4e24d296",
   "metadata": {},
   "source": [
    "### 5.2.2) Random Forest model"
   ]
  },
  {
   "cell_type": "markdown",
   "id": "b8c6f7c4",
   "metadata": {},
   "source": [
    "#### 5.2.2.1) Explore Random Forest model"
   ]
  },
  {
   "cell_type": "code",
   "execution_count": 8,
   "id": "51b7cf52",
   "metadata": {},
   "outputs": [
    {
     "name": "stdout",
     "output_type": "stream",
     "text": [
      "['__abstractmethods__', '__annotations__', '__class__', '__delattr__', '__dict__', '__dir__', '__doc__', '__eq__', '__format__', '__ge__', '__getattribute__', '__getitem__', '__getstate__', '__gt__', '__hash__', '__init__', '__init_subclass__', '__iter__', '__le__', '__len__', '__lt__', '__module__', '__ne__', '__new__', '__reduce__', '__reduce_ex__', '__repr__', '__setattr__', '__setstate__', '__sizeof__', '__str__', '__subclasshook__', '__weakref__', '_abc_impl', '_check_feature_names', '_check_n_features', '_compute_oob_predictions', '_estimator_type', '_get_oob_predictions', '_get_param_names', '_get_tags', '_make_estimator', '_more_tags', '_repr_html_', '_repr_html_inner', '_repr_mimebundle_', '_required_parameters', '_set_oob_score_and_attributes', '_validate_X_predict', '_validate_data', '_validate_estimator', '_validate_y_class_weight', 'apply', 'decision_path', 'feature_importances_', 'fit', 'get_params', 'n_features_', 'predict', 'predict_log_proba', 'predict_proba', 'score', 'set_params']\n",
      "RandomForestClassifier()\n"
     ]
    }
   ],
   "source": [
    "print(dir(RandomForestClassifier))\n",
    "print(RandomForestClassifier())"
   ]
  },
  {
   "cell_type": "code",
   "execution_count": 9,
   "id": "c8b5e862",
   "metadata": {},
   "outputs": [
    {
     "data": {
      "text/plain": [
       "{'bootstrap': True,\n",
       " 'ccp_alpha': 0.0,\n",
       " 'class_weight': None,\n",
       " 'criterion': 'gini',\n",
       " 'max_depth': None,\n",
       " 'max_features': 'auto',\n",
       " 'max_leaf_nodes': None,\n",
       " 'max_samples': None,\n",
       " 'min_impurity_decrease': 0.0,\n",
       " 'min_samples_leaf': 1,\n",
       " 'min_samples_split': 2,\n",
       " 'min_weight_fraction_leaf': 0.0,\n",
       " 'n_estimators': 100,\n",
       " 'n_jobs': -1,\n",
       " 'oob_score': False,\n",
       " 'random_state': None,\n",
       " 'verbose': 0,\n",
       " 'warm_start': False}"
      ]
     },
     "execution_count": 9,
     "metadata": {},
     "output_type": "execute_result"
    }
   ],
   "source": [
    "rf = RandomForestClassifier(n_jobs=-1)\n",
    "rf.get_params()"
   ]
  },
  {
   "cell_type": "markdown",
   "id": "8d7ed37d",
   "metadata": {},
   "source": [
    "#### Explore RandomForestClassifier through Cross-Validation. Use only X_train and y_train."
   ]
  },
  {
   "cell_type": "code",
   "execution_count": 11,
   "id": "a8113910",
   "metadata": {},
   "outputs": [
    {
     "data": {
      "text/plain": [
       "array([0.80794702, 0.81788079, 0.81788079, 0.82724252, 0.80730897])"
      ]
     },
     "execution_count": 11,
     "metadata": {},
     "output_type": "execute_result"
    }
   ],
   "source": [
    "# Explore RandomForestClassifier through Cross-Validation. Use only X_train and y_train\n",
    "rf = RandomForestClassifier(n_jobs=-1)\n",
    "k_fold = KFold(n_splits=5)\n",
    "cross_val_score(rf, X_train, y_train, cv=k_fold, scoring='accuracy', n_jobs=-1)"
   ]
  },
  {
   "cell_type": "code",
   "execution_count": 12,
   "id": "c5938866",
   "metadata": {},
   "outputs": [
    {
     "data": {
      "text/plain": [
       "array([0.73397755, 0.74879032, 0.75740358, 0.74801587, 0.74390244])"
      ]
     },
     "execution_count": 12,
     "metadata": {},
     "output_type": "execute_result"
    }
   ],
   "source": [
    "# Use roc_auc as performance measure\n",
    "cross_val_score(rf, X_train, y_train, cv=k_fold, scoring='roc_auc', n_jobs=-1)"
   ]
  },
  {
   "cell_type": "markdown",
   "id": "780c6be5",
   "metadata": {},
   "source": [
    "#### Explore RandomForestClassifier through holdout set. Use both train and test sets"
   ]
  },
  {
   "cell_type": "code",
   "execution_count": 15,
   "id": "01435ab9",
   "metadata": {},
   "outputs": [],
   "source": [
    "# Fit model with default hyper-parameters\n",
    "rf_fit = rf.fit(X_train, y_train)"
   ]
  },
  {
   "cell_type": "code",
   "execution_count": 16,
   "id": "e34e4163",
   "metadata": {},
   "outputs": [
    {
     "data": {
      "text/plain": [
       "[(0.12242663450905042, 'Cscore'),\n",
       " (0.11514545930584628, 'Nscore'),\n",
       " (0.1144220742437734, 'Oscore'),\n",
       " (0.11066689941455875, 'Ascore'),\n",
       " (0.1090545563188401, 'Escore'),\n",
       " (0.09841159456701842, 'SS'),\n",
       " (0.07736107504946627, 'Impulsive'),\n",
       " (0.07102014698826864, 'Age_value'),\n",
       " (0.03347117805552255, 'Male'),\n",
       " (0.03151184892986846, 'USA'),\n",
       " (0.026174061488758178, 'UK'),\n",
       " (0.020252095605134343, 'Edu_gr4'),\n",
       " (0.019680128804221424, 'Edu_gr3'),\n",
       " (0.01797576039798906, 'Edu_gr5'),\n",
       " (0.009258103788733188, 'Other'),\n",
       " (0.009213690762690173, 'Edu_gr2'),\n",
       " (0.006269491838442038, 'Canada'),\n",
       " (0.0057204191070267365, 'Republic of Ireland'),\n",
       " (0.0019647808247915547, 'New Zealand')]"
      ]
     },
     "execution_count": 16,
     "metadata": {},
     "output_type": "execute_result"
    }
   ],
   "source": [
    "# Output feature importance\n",
    "sorted(zip(rf_fit.feature_importances_, X_train.columns), reverse=True)\n",
    "# Yes, similar to what we have in EDA step"
   ]
  },
  {
   "cell_type": "code",
   "execution_count": 24,
   "id": "7bcce76b",
   "metadata": {},
   "outputs": [
    {
     "data": {
      "text/plain": [
       "array([0, 1], dtype=int64)"
      ]
     },
     "execution_count": 24,
     "metadata": {},
     "output_type": "execute_result"
    }
   ],
   "source": [
    "rf_fit.classes_"
   ]
  },
  {
   "cell_type": "code",
   "execution_count": 21,
   "id": "c4156f4a",
   "metadata": {},
   "outputs": [
    {
     "name": "stdout",
     "output_type": "stream",
     "text": [
      "[0 0 0 0 0]\n",
      "[[0.83 0.17]\n",
      " [0.86 0.14]\n",
      " [0.78 0.22]\n",
      " [0.99 0.01]\n",
      " [0.76 0.24]]\n"
     ]
    }
   ],
   "source": [
    "# Predict on X_test\n",
    "y_pred = rf_fit.predict(X_test)\n",
    "y_pred_probs = rf_fit.predict_proba(X_test)\n",
    "print(y_pred[:5])\n",
    "print(y_pred_probs[:5])"
   ]
  },
  {
   "cell_type": "code",
   "execution_count": 28,
   "id": "8574619b",
   "metadata": {},
   "outputs": [
    {
     "name": "stdout",
     "output_type": "stream",
     "text": [
      "Precision: 0.526 / Recall: 0.123 / Accuracy: 0.788\n"
     ]
    }
   ],
   "source": [
    "# Output performance\n",
    "precision, recall, fscore, support = score(y_test, y_pred, pos_label=1, average='binary')\n",
    "print('Precision: {} / Recall: {} / Accuracy: {}'.format(round(precision, 3),\n",
    "                                                        round(recall, 3),\n",
    "                                                        round((y_pred==y_test).sum() / len(y_pred),3)))\n",
    "# Performance is not greate, but consistent with rough version in EDA"
   ]
  },
  {
   "cell_type": "code",
   "execution_count": 39,
   "id": "f7f2dbc9",
   "metadata": {},
   "outputs": [
    {
     "name": "stdout",
     "output_type": "stream",
     "text": [
      "Precision: 1.0 / Recall: 1.0 / Accuracy: 1.0\n"
     ]
    }
   ],
   "source": [
    "# Predict on X_train and output train performance\n",
    "y_pred_train = rf_fit.predict(X_train)\n",
    "precision_train, recall_train, fscore_train, support_train = score(y_train, y_pred_train, pos_label=1, average='binary')\n",
    "print('Precision: {} / Recall: {} / Accuracy: {}'.format(round(precision_train, 3),\n",
    "                                                        round(recall_train, 3),\n",
    "                                                        round((y_pred_train==y_train).sum() / len(y_pred_train),3)))\n",
    "# OK, this might be the evidence of overfitting. We have 'max_depth': None and 'min_samples_leaf': 1"
   ]
  },
  {
   "cell_type": "code",
   "execution_count": null,
   "id": "9a8b916c",
   "metadata": {},
   "outputs": [],
   "source": []
  },
  {
   "cell_type": "code",
   "execution_count": 38,
   "id": "3e684d95",
   "metadata": {},
   "outputs": [
    {
     "name": "stdout",
     "output_type": "stream",
     "text": [
      "roc_auc: 0.683\n"
     ]
    }
   ],
   "source": [
    "# Output roc_auc\n",
    "print('roc_auc: {}'.format(round(roc_auc_score(y_test, y_pred_probs[:, 1]), 3)))\n",
    "# Interesing roc_auc here is smaller than cross-validation"
   ]
  },
  {
   "cell_type": "code",
   "execution_count": 37,
   "id": "4fe512e8",
   "metadata": {},
   "outputs": [
    {
     "data": {
      "image/png": "[encoded data removed]",
      "text/plain": [
       "<Figure size 640x480 with 1 Axes>"
      ]
     },
     "metadata": {},
     "output_type": "display_data"
    }
   ],
   "source": [
    "# Plot ROC curve\n",
    "fpr, tpr, thresholds = roc_curve(y_test, y_pred_probs[:, 1])\n",
    "plt.plot([0, 1], [0, 1], 'k--')\n",
    "plt.plot(fpr, tpr)\n",
    "plt.xlabel('False Positive Rate')\n",
    "plt.ylabel('True Positive Rate')\n",
    "plt.title('ROC Curve')\n",
    "plt.show()"
   ]
  },
  {
   "cell_type": "code",
   "execution_count": null,
   "id": "676fd55c",
   "metadata": {},
   "outputs": [],
   "source": [
    "Cont from here\n",
    "Cont from here\n",
    "Cont from here\n",
    "Cont from here\n",
    "Cont from here"
   ]
  },
  {
   "cell_type": "code",
   "execution_count": null,
   "id": "844591f6",
   "metadata": {},
   "outputs": [],
   "source": [
    "# Try some not default hyperparameters\n",
    "rf = RandomForestClassifier(n_estimators=100, max_depth=20, n_jobs=-1)\n",
    "rf_fit = rf.fit(X_train, y_train)\n",
    "y_pred = rf_fit.predict(X_test)\n",
    "\n"
   ]
  },
  {
   "cell_type": "code",
   "execution_count": null,
   "id": "f973286b",
   "metadata": {},
   "outputs": [],
   "source": []
  },
  {
   "cell_type": "code",
   "execution_count": null,
   "id": "abda5bac",
   "metadata": {},
   "outputs": [],
   "source": []
  },
  {
   "cell_type": "code",
   "execution_count": null,
   "id": "e68f3eb0",
   "metadata": {},
   "outputs": [],
   "source": []
  },
  {
   "cell_type": "code",
   "execution_count": null,
   "id": "5f2e4421",
   "metadata": {},
   "outputs": [],
   "source": []
  },
  {
   "cell_type": "code",
   "execution_count": null,
   "id": "044f5068",
   "metadata": {},
   "outputs": [],
   "source": []
  },
  {
   "cell_type": "code",
   "execution_count": 18,
   "id": "7a7e677a",
   "metadata": {},
   "outputs": [
    {
     "data": {
      "text/plain": [
       "RandomForestClassifier(n_jobs=-1)"
      ]
     },
     "execution_count": 18,
     "metadata": {},
     "output_type": "execute_result"
    }
   ],
   "source": [
    "rf_fit"
   ]
  },
  {
   "cell_type": "code",
   "execution_count": null,
   "id": "f7d36101",
   "metadata": {},
   "outputs": [],
   "source": []
  },
  {
   "cell_type": "code",
   "execution_count": null,
   "id": "7c888b83",
   "metadata": {},
   "outputs": [],
   "source": []
  },
  {
   "cell_type": "code",
   "execution_count": null,
   "id": "75e3b70a",
   "metadata": {},
   "outputs": [],
   "source": [
    "Do gridsearch with default setting"
   ]
  },
  {
   "cell_type": "code",
   "execution_count": null,
   "id": "e1a6b70b",
   "metadata": {},
   "outputs": [],
   "source": []
  },
  {
   "cell_type": "code",
   "execution_count": null,
   "id": "1bb829c3",
   "metadata": {},
   "outputs": [],
   "source": []
  },
  {
   "cell_type": "code",
   "execution_count": null,
   "id": "09ca1d6f",
   "metadata": {},
   "outputs": [],
   "source": []
  },
  {
   "cell_type": "code",
   "execution_count": null,
   "id": "e403971b",
   "metadata": {},
   "outputs": [],
   "source": []
  },
  {
   "cell_type": "code",
   "execution_count": null,
   "id": "471f413e",
   "metadata": {},
   "outputs": [],
   "source": []
  },
  {
   "cell_type": "code",
   "execution_count": null,
   "id": "4701ecab",
   "metadata": {},
   "outputs": [],
   "source": []
  },
  {
   "cell_type": "code",
   "execution_count": null,
   "id": "8437cec6",
   "metadata": {},
   "outputs": [],
   "source": []
  },
  {
   "cell_type": "code",
   "execution_count": null,
   "id": "7166b79c",
   "metadata": {},
   "outputs": [],
   "source": []
  },
  {
   "cell_type": "code",
   "execution_count": null,
   "id": "e4522f55",
   "metadata": {},
   "outputs": [],
   "source": []
  },
  {
   "cell_type": "code",
   "execution_count": null,
   "id": "773bc25d",
   "metadata": {},
   "outputs": [],
   "source": []
  },
  {
   "cell_type": "code",
   "execution_count": null,
   "id": "6eab882c",
   "metadata": {},
   "outputs": [],
   "source": [
    "When evaluating new model, probably good idea to delete all model and parameters from the memory"
   ]
  },
  {
   "cell_type": "code",
   "execution_count": null,
   "id": "9edb075a",
   "metadata": {},
   "outputs": [],
   "source": []
  }
 ],
 "metadata": {
  "kernelspec": {
   "display_name": "Python 3 (ipykernel)",
   "language": "python",
   "name": "python3"
  },
  "language_info": {
   "codemirror_mode": {
    "name": "ipython",
    "version": 3
   },
   "file_extension": ".py",
   "mimetype": "text/x-python",
   "name": "python",
   "nbconvert_exporter": "python",
   "pygments_lexer": "ipython3",
   "version": "3.9.13"
  }
 },
 "nbformat": 4,
 "nbformat_minor": 5
}
