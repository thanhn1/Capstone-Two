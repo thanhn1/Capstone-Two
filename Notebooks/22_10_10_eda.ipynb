{
 "cells": [
  {
   "cell_type": "markdown",
   "id": "e35ad789",
   "metadata": {},
   "source": [
    "3) EDA\n",
    "3.1) Import necessary packages and load data\n",
    "\n",
    "3.2) Explore data\n",
    "    3.2.1) Categorical variables\n",
    "    3.2.2) Numerical variables\n",
    "    3.2.3) Target variable\n",
    "        3.2.3.1) Target variables\n",
    "        3.2.3.2) Target variables across Gender\n",
    "        3.2.3.3) Target variables across Country\n",
    "        3.2.3.4) Target variables across Education and Age groups\n",
    "\n",
    "3.3) Correlation\n",
    "    3.3.1) Correlation matrix and heatmap\n",
    "    3.3.2) bivariate chart \n",
    "\n",
    "3.4) PCA"
   ]
  },
  {
   "cell_type": "markdown",
   "id": "d1463a94",
   "metadata": {},
   "source": [
    "## 3.1) Import packages and load data"
   ]
  },
  {
   "cell_type": "code",
   "execution_count": 1,
   "id": "dd945657",
   "metadata": {},
   "outputs": [],
   "source": [
    "# Import packages\n",
    "import pandas as pd\n",
    "import numpy as np\n",
    "import matplotlib.pyplot as plt\n",
    "import seaborn as sns"
   ]
  },
  {
   "cell_type": "code",
   "execution_count": 80,
   "id": "5401671f",
   "metadata": {},
   "outputs": [],
   "source": [
    "# Import more\n",
    "from scipy.stats import pearsonr"
   ]
  },
  {
   "cell_type": "code",
   "execution_count": 3,
   "id": "0a2c4a8d",
   "metadata": {},
   "outputs": [
    {
     "data": {
      "text/html": [
       "<div>\n",
       "<style scoped>\n",
       "    .dataframe tbody tr th:only-of-type {\n",
       "        vertical-align: middle;\n",
       "    }\n",
       "\n",
       "    .dataframe tbody tr th {\n",
       "        vertical-align: top;\n",
       "    }\n",
       "\n",
       "    .dataframe thead th {\n",
       "        text-align: right;\n",
       "    }\n",
       "</style>\n",
       "<table border=\"1\" class=\"dataframe\">\n",
       "  <thead>\n",
       "    <tr style=\"text-align: right;\">\n",
       "      <th></th>\n",
       "      <th>ID</th>\n",
       "      <th>Age_value</th>\n",
       "      <th>Gender_value</th>\n",
       "      <th>Education_value</th>\n",
       "      <th>Country_value</th>\n",
       "      <th>Ethnicity_value</th>\n",
       "      <th>Nscore</th>\n",
       "      <th>Escore</th>\n",
       "      <th>Oscore</th>\n",
       "      <th>Ascore</th>\n",
       "      <th>...</th>\n",
       "      <th>Gender</th>\n",
       "      <th>Education_level</th>\n",
       "      <th>Education</th>\n",
       "      <th>Country</th>\n",
       "      <th>Ethnicity</th>\n",
       "      <th>Age_level</th>\n",
       "      <th>Amyl_binary</th>\n",
       "      <th>Amyl_user</th>\n",
       "      <th>Cannabis_binary</th>\n",
       "      <th>Cannabis_user</th>\n",
       "    </tr>\n",
       "  </thead>\n",
       "  <tbody>\n",
       "    <tr>\n",
       "      <th>0</th>\n",
       "      <td>1</td>\n",
       "      <td>0.49788</td>\n",
       "      <td>0.48246</td>\n",
       "      <td>-0.05921</td>\n",
       "      <td>0.96082</td>\n",
       "      <td>0.12600</td>\n",
       "      <td>0.31287</td>\n",
       "      <td>-0.57545</td>\n",
       "      <td>-0.58331</td>\n",
       "      <td>-0.91699</td>\n",
       "      <td>...</td>\n",
       "      <td>Female</td>\n",
       "      <td>6</td>\n",
       "      <td>Professional certificate</td>\n",
       "      <td>UK</td>\n",
       "      <td>Mixed-White/Asian</td>\n",
       "      <td>3</td>\n",
       "      <td>Non-user</td>\n",
       "      <td>0</td>\n",
       "      <td>Non-user</td>\n",
       "      <td>0</td>\n",
       "    </tr>\n",
       "    <tr>\n",
       "      <th>1</th>\n",
       "      <td>2</td>\n",
       "      <td>-0.07854</td>\n",
       "      <td>-0.48246</td>\n",
       "      <td>1.98437</td>\n",
       "      <td>0.96082</td>\n",
       "      <td>-0.31685</td>\n",
       "      <td>-0.67825</td>\n",
       "      <td>1.93886</td>\n",
       "      <td>1.43533</td>\n",
       "      <td>0.76096</td>\n",
       "      <td>...</td>\n",
       "      <td>Male</td>\n",
       "      <td>9</td>\n",
       "      <td>Doctorate degree</td>\n",
       "      <td>UK</td>\n",
       "      <td>White</td>\n",
       "      <td>2</td>\n",
       "      <td>User</td>\n",
       "      <td>1</td>\n",
       "      <td>User</td>\n",
       "      <td>1</td>\n",
       "    </tr>\n",
       "    <tr>\n",
       "      <th>2</th>\n",
       "      <td>3</td>\n",
       "      <td>0.49788</td>\n",
       "      <td>-0.48246</td>\n",
       "      <td>-0.05921</td>\n",
       "      <td>0.96082</td>\n",
       "      <td>-0.31685</td>\n",
       "      <td>-0.46725</td>\n",
       "      <td>0.80523</td>\n",
       "      <td>-0.84732</td>\n",
       "      <td>-1.62090</td>\n",
       "      <td>...</td>\n",
       "      <td>Male</td>\n",
       "      <td>6</td>\n",
       "      <td>Professional certificate</td>\n",
       "      <td>UK</td>\n",
       "      <td>White</td>\n",
       "      <td>3</td>\n",
       "      <td>Non-user</td>\n",
       "      <td>0</td>\n",
       "      <td>User</td>\n",
       "      <td>1</td>\n",
       "    </tr>\n",
       "    <tr>\n",
       "      <th>3</th>\n",
       "      <td>4</td>\n",
       "      <td>-0.95197</td>\n",
       "      <td>0.48246</td>\n",
       "      <td>1.16365</td>\n",
       "      <td>0.96082</td>\n",
       "      <td>-0.31685</td>\n",
       "      <td>-0.14882</td>\n",
       "      <td>-0.80615</td>\n",
       "      <td>-0.01928</td>\n",
       "      <td>0.59042</td>\n",
       "      <td>...</td>\n",
       "      <td>Female</td>\n",
       "      <td>8</td>\n",
       "      <td>Masters degree</td>\n",
       "      <td>UK</td>\n",
       "      <td>White</td>\n",
       "      <td>1</td>\n",
       "      <td>Non-user</td>\n",
       "      <td>0</td>\n",
       "      <td>User</td>\n",
       "      <td>1</td>\n",
       "    </tr>\n",
       "    <tr>\n",
       "      <th>4</th>\n",
       "      <td>5</td>\n",
       "      <td>0.49788</td>\n",
       "      <td>0.48246</td>\n",
       "      <td>1.98437</td>\n",
       "      <td>0.96082</td>\n",
       "      <td>-0.31685</td>\n",
       "      <td>0.73545</td>\n",
       "      <td>-1.63340</td>\n",
       "      <td>-0.45174</td>\n",
       "      <td>-0.30172</td>\n",
       "      <td>...</td>\n",
       "      <td>Female</td>\n",
       "      <td>9</td>\n",
       "      <td>Doctorate degree</td>\n",
       "      <td>UK</td>\n",
       "      <td>White</td>\n",
       "      <td>3</td>\n",
       "      <td>Non-user</td>\n",
       "      <td>0</td>\n",
       "      <td>User</td>\n",
       "      <td>1</td>\n",
       "    </tr>\n",
       "  </tbody>\n",
       "</table>\n",
       "<p>5 rows × 26 columns</p>\n",
       "</div>"
      ],
      "text/plain": [
       "   ID  Age_value  Gender_value  Education_value  Country_value  \\\n",
       "0   1    0.49788       0.48246         -0.05921        0.96082   \n",
       "1   2   -0.07854      -0.48246          1.98437        0.96082   \n",
       "2   3    0.49788      -0.48246         -0.05921        0.96082   \n",
       "3   4   -0.95197       0.48246          1.16365        0.96082   \n",
       "4   5    0.49788       0.48246          1.98437        0.96082   \n",
       "\n",
       "   Ethnicity_value   Nscore   Escore   Oscore   Ascore  ...  Gender  \\\n",
       "0          0.12600  0.31287 -0.57545 -0.58331 -0.91699  ...  Female   \n",
       "1         -0.31685 -0.67825  1.93886  1.43533  0.76096  ...    Male   \n",
       "2         -0.31685 -0.46725  0.80523 -0.84732 -1.62090  ...    Male   \n",
       "3         -0.31685 -0.14882 -0.80615 -0.01928  0.59042  ...  Female   \n",
       "4         -0.31685  0.73545 -1.63340 -0.45174 -0.30172  ...  Female   \n",
       "\n",
       "   Education_level                 Education Country          Ethnicity  \\\n",
       "0                6  Professional certificate      UK  Mixed-White/Asian   \n",
       "1                9          Doctorate degree      UK              White   \n",
       "2                6  Professional certificate      UK              White   \n",
       "3                8            Masters degree      UK              White   \n",
       "4                9          Doctorate degree      UK              White   \n",
       "\n",
       "  Age_level Amyl_binary  Amyl_user Cannabis_binary Cannabis_user  \n",
       "0         3    Non-user          0        Non-user             0  \n",
       "1         2        User          1            User             1  \n",
       "2         3    Non-user          0            User             1  \n",
       "3         1    Non-user          0            User             1  \n",
       "4         3    Non-user          0            User             1  \n",
       "\n",
       "[5 rows x 26 columns]"
      ]
     },
     "execution_count": 3,
     "metadata": {},
     "output_type": "execute_result"
    }
   ],
   "source": [
    "# Read in the latest dataset\n",
    "drug_1 = pd.read_csv('../data/drug_1.csv', index_col=0)\n",
    "drug_1.head()"
   ]
  },
  {
   "cell_type": "code",
   "execution_count": 4,
   "id": "bc33cc3c",
   "metadata": {},
   "outputs": [
    {
     "data": {
      "text/plain": [
       "(1885, 26)"
      ]
     },
     "execution_count": 4,
     "metadata": {},
     "output_type": "execute_result"
    }
   ],
   "source": [
    "drug_1.shape"
   ]
  },
  {
   "cell_type": "markdown",
   "id": "f3474bbc",
   "metadata": {},
   "source": [
    "## 3.2) Explore data\n",
    "- We have 5 demographic features, 7 personality trait features, and two target variables. All of these are categorical. \n",
    "- For 5 personality trait features the number of categories is big and the dataset's owners have quantified them. Thus, we will explore these features as both categorical and numerical variables. "
   ]
  },
  {
   "cell_type": "markdown",
   "id": "1d040ea5",
   "metadata": {},
   "source": [
    "### 3.2.1) Categorical variables"
   ]
  },
  {
   "cell_type": "code",
   "execution_count": 18,
   "id": "506d6305",
   "metadata": {
    "scrolled": true
   },
   "outputs": [
    {
     "data": {
      "image/png": "[encoded data removed]",
      "text/plain": [
       "<Figure size 432x288 with 1 Axes>"
      ]
     },
     "metadata": {
      "needs_background": "light"
     },
     "output_type": "display_data"
    },
    {
     "data": {
      "image/png": "[encoded data removed]",
      "text/plain": [
       "<Figure size 432x288 with 1 Axes>"
      ]
     },
     "metadata": {
      "needs_background": "light"
     },
     "output_type": "display_data"
    },
    {
     "data": {
      "image/png": "[encoded data removed]",
      "text/plain": [
       "<Figure size 432x288 with 1 Axes>"
      ]
     },
     "metadata": {
      "needs_background": "light"
     },
     "output_type": "display_data"
    },
    {
     "data": {
      "image/png": "[encoded data removed]",
      "text/plain": [
       "<Figure size 432x288 with 1 Axes>"
      ]
     },
     "metadata": {
      "needs_background": "light"
     },
     "output_type": "display_data"
    },
    {
     "data": {
      "image/png": "[encoded data removed]",
      "text/plain": [
       "<Figure size 432x288 with 1 Axes>"
      ]
     },
     "metadata": {
      "needs_background": "light"
     },
     "output_type": "display_data"
    }
   ],
   "source": [
    "# Count plots of demographic features\n",
    "varlist = ['Age_value', 'Gender_value', 'Education_value', 'Country_value', 'Ethnicity_value']\n",
    "for var in varlist:\n",
    "    title = 'Count Plot of ' + var\n",
    "    sns.countplot(x=var, data=drug_1)\n",
    "    plt.title(title)\n",
    "    plt.show()"
   ]
  },
  {
   "cell_type": "code",
   "execution_count": 19,
   "id": "453c4592",
   "metadata": {},
   "outputs": [
    {
     "data": {
      "image/png": "[encoded data removed]",
      "text/plain": [
       "<Figure size 432x288 with 1 Axes>"
      ]
     },
     "metadata": {
      "needs_background": "light"
     },
     "output_type": "display_data"
    },
    {
     "data": {
      "image/png": "[encoded data removed]",
      "text/plain": [
       "<Figure size 432x288 with 1 Axes>"
      ]
     },
     "metadata": {
      "needs_background": "light"
     },
     "output_type": "display_data"
    },
    {
     "data": {
      "image/png": "[encoded data removed]",
      "text/plain": [
       "<Figure size 432x288 with 1 Axes>"
      ]
     },
     "metadata": {
      "needs_background": "light"
     },
     "output_type": "display_data"
    },
    {
     "data": {
      "image/png": "[encoded data removed]",
      "text/plain": [
       "<Figure size 432x288 with 1 Axes>"
      ]
     },
     "metadata": {
      "needs_background": "light"
     },
     "output_type": "display_data"
    },
    {
     "data": {
      "image/png": "[encoded data removed]",
      "text/plain": [
       "<Figure size 432x288 with 1 Axes>"
      ]
     },
     "metadata": {
      "needs_background": "light"
     },
     "output_type": "display_data"
    },
    {
     "data": {
      "image/png": "[encoded data removed]",
      "text/plain": [
       "<Figure size 432x288 with 1 Axes>"
      ]
     },
     "metadata": {
      "needs_background": "light"
     },
     "output_type": "display_data"
    },
    {
     "data": {
      "image/png": "[encoded data removed]",
      "text/plain": [
       "<Figure size 432x288 with 1 Axes>"
      ]
     },
     "metadata": {
      "needs_background": "light"
     },
     "output_type": "display_data"
    }
   ],
   "source": [
    "# Count plots of personality features\n",
    "varlist = ['Nscore', 'Escore', 'Oscore', 'Ascore', 'Cscore', 'Impulsive', 'SS']\n",
    "for var in varlist:\n",
    "    sns.countplot(x=var, data=drug_1)\n",
    "    plt.title('Count Plot of ' + var)\n",
    "    plt.show()"
   ]
  },
  {
   "cell_type": "code",
   "execution_count": 29,
   "id": "5520df9f",
   "metadata": {
    "scrolled": true
   },
   "outputs": [
    {
     "data": {
      "text/html": [
       "<div>\n",
       "<style scoped>\n",
       "    .dataframe tbody tr th:only-of-type {\n",
       "        vertical-align: middle;\n",
       "    }\n",
       "\n",
       "    .dataframe tbody tr th {\n",
       "        vertical-align: top;\n",
       "    }\n",
       "\n",
       "    .dataframe thead th {\n",
       "        text-align: right;\n",
       "    }\n",
       "</style>\n",
       "<table border=\"1\" class=\"dataframe\">\n",
       "  <thead>\n",
       "    <tr style=\"text-align: right;\">\n",
       "      <th></th>\n",
       "      <th>Nscore</th>\n",
       "      <th>Escore</th>\n",
       "      <th>Oscore</th>\n",
       "      <th>Ascore</th>\n",
       "      <th>Cscore</th>\n",
       "      <th>Impulsive</th>\n",
       "      <th>SS</th>\n",
       "    </tr>\n",
       "  </thead>\n",
       "  <tbody>\n",
       "    <tr>\n",
       "      <th>count</th>\n",
       "      <td>1885.000000</td>\n",
       "      <td>1885.000000</td>\n",
       "      <td>1885.000000</td>\n",
       "      <td>1885.000000</td>\n",
       "      <td>1885.000000</td>\n",
       "      <td>1885.000000</td>\n",
       "      <td>1885.000000</td>\n",
       "    </tr>\n",
       "    <tr>\n",
       "      <th>mean</th>\n",
       "      <td>0.000047</td>\n",
       "      <td>-0.000163</td>\n",
       "      <td>-0.000534</td>\n",
       "      <td>-0.000245</td>\n",
       "      <td>-0.000386</td>\n",
       "      <td>0.007216</td>\n",
       "      <td>-0.003292</td>\n",
       "    </tr>\n",
       "    <tr>\n",
       "      <th>std</th>\n",
       "      <td>0.998106</td>\n",
       "      <td>0.997448</td>\n",
       "      <td>0.996229</td>\n",
       "      <td>0.997440</td>\n",
       "      <td>0.997523</td>\n",
       "      <td>0.954435</td>\n",
       "      <td>0.963701</td>\n",
       "    </tr>\n",
       "    <tr>\n",
       "      <th>min</th>\n",
       "      <td>-3.464360</td>\n",
       "      <td>-3.273930</td>\n",
       "      <td>-3.273930</td>\n",
       "      <td>-3.464360</td>\n",
       "      <td>-3.464360</td>\n",
       "      <td>-2.555240</td>\n",
       "      <td>-2.078480</td>\n",
       "    </tr>\n",
       "    <tr>\n",
       "      <th>25%</th>\n",
       "      <td>-0.678250</td>\n",
       "      <td>-0.695090</td>\n",
       "      <td>-0.717270</td>\n",
       "      <td>-0.606330</td>\n",
       "      <td>-0.652530</td>\n",
       "      <td>-0.711260</td>\n",
       "      <td>-0.525930</td>\n",
       "    </tr>\n",
       "    <tr>\n",
       "      <th>50%</th>\n",
       "      <td>0.042570</td>\n",
       "      <td>0.003320</td>\n",
       "      <td>-0.019280</td>\n",
       "      <td>-0.017290</td>\n",
       "      <td>-0.006650</td>\n",
       "      <td>-0.217120</td>\n",
       "      <td>0.079870</td>\n",
       "    </tr>\n",
       "    <tr>\n",
       "      <th>75%</th>\n",
       "      <td>0.629670</td>\n",
       "      <td>0.637790</td>\n",
       "      <td>0.723300</td>\n",
       "      <td>0.760960</td>\n",
       "      <td>0.584890</td>\n",
       "      <td>0.529750</td>\n",
       "      <td>0.765400</td>\n",
       "    </tr>\n",
       "    <tr>\n",
       "      <th>max</th>\n",
       "      <td>3.273930</td>\n",
       "      <td>3.273930</td>\n",
       "      <td>2.901610</td>\n",
       "      <td>3.464360</td>\n",
       "      <td>3.464360</td>\n",
       "      <td>2.901610</td>\n",
       "      <td>1.921730</td>\n",
       "    </tr>\n",
       "  </tbody>\n",
       "</table>\n",
       "</div>"
      ],
      "text/plain": [
       "            Nscore       Escore       Oscore       Ascore       Cscore  \\\n",
       "count  1885.000000  1885.000000  1885.000000  1885.000000  1885.000000   \n",
       "mean      0.000047    -0.000163    -0.000534    -0.000245    -0.000386   \n",
       "std       0.998106     0.997448     0.996229     0.997440     0.997523   \n",
       "min      -3.464360    -3.273930    -3.273930    -3.464360    -3.464360   \n",
       "25%      -0.678250    -0.695090    -0.717270    -0.606330    -0.652530   \n",
       "50%       0.042570     0.003320    -0.019280    -0.017290    -0.006650   \n",
       "75%       0.629670     0.637790     0.723300     0.760960     0.584890   \n",
       "max       3.273930     3.273930     2.901610     3.464360     3.464360   \n",
       "\n",
       "         Impulsive           SS  \n",
       "count  1885.000000  1885.000000  \n",
       "mean      0.007216    -0.003292  \n",
       "std       0.954435     0.963701  \n",
       "min      -2.555240    -2.078480  \n",
       "25%      -0.711260    -0.525930  \n",
       "50%      -0.217120     0.079870  \n",
       "75%       0.529750     0.765400  \n",
       "max       2.901610     1.921730  "
      ]
     },
     "execution_count": 29,
     "metadata": {},
     "output_type": "execute_result"
    }
   ],
   "source": [
    "drug_1[['Nscore', 'Escore', 'Oscore', 'Ascore', 'Cscore', 'Impulsive', 'SS']].describe()"
   ]
  },
  {
   "cell_type": "code",
   "execution_count": 30,
   "id": "6bb893b3",
   "metadata": {},
   "outputs": [
    {
     "data": {
      "text/plain": [
       "Nscore      -0.000059\n",
       "Escore      -0.001738\n",
       "Oscore      -0.010308\n",
       "Ascore      -0.003897\n",
       "Cscore      -0.005083\n",
       "Impulsive    0.072795\n",
       "SS          -0.040660\n",
       "dtype: float64"
      ]
     },
     "execution_count": 30,
     "metadata": {},
     "output_type": "execute_result"
    }
   ],
   "source": [
    "# Check skewness\n",
    "drug_1[['Nscore', 'Escore', 'Oscore', 'Ascore', 'Cscore', 'Impulsive', 'SS']].skew()"
   ]
  },
  {
   "cell_type": "markdown",
   "id": "9dd20373",
   "metadata": {},
   "source": [
    "### 3.2.2) Numerical variables\n",
    "- Five features ('Nscore', 'Escore', 'Oscore', 'Ascore', 'Cscore', 'Impulsive') have many categories. We can consider them as numerical type. Let look explore them here."
   ]
  },
  {
   "cell_type": "code",
   "execution_count": 25,
   "id": "fed5eaf5",
   "metadata": {},
   "outputs": [
    {
     "data": {
      "image/png": "[encoded data removed]",
      "text/plain": [
       "<Figure size 1080x720 with 6 Axes>"
      ]
     },
     "metadata": {
      "needs_background": "light"
     },
     "output_type": "display_data"
    }
   ],
   "source": [
    "# Histogram\n",
    "drug_1[['Nscore', 'Escore', 'Oscore', 'Ascore', 'Cscore']].hist(figsize=(15,10))\n",
    "plt.subplots_adjust(hspace=0.5);"
   ]
  },
  {
   "cell_type": "code",
   "execution_count": 26,
   "id": "325a3734",
   "metadata": {},
   "outputs": [
    {
     "data": {
      "text/plain": [
       "<AxesSubplot:>"
      ]
     },
     "execution_count": 26,
     "metadata": {},
     "output_type": "execute_result"
    },
    {
     "data": {
      "image/png": "[encoded data removed]",
      "text/plain": [
       "<Figure size 1080x720 with 1 Axes>"
      ]
     },
     "metadata": {
      "needs_background": "light"
     },
     "output_type": "display_data"
    }
   ],
   "source": [
    "# Boxplot\n",
    "drug_1[['Nscore', 'Escore', 'Oscore', 'Ascore', 'Cscore']].boxplot(figsize=(15,10))\n",
    "#plt.subplots_adjust(hspace=0.5);"
   ]
  },
  {
   "cell_type": "code",
   "execution_count": 28,
   "id": "6e15bed3",
   "metadata": {},
   "outputs": [
    {
     "data": {
      "image/png": "[encoded data removed]",
      "text/plain": [
       "<Figure size 432x288 with 1 Axes>"
      ]
     },
     "metadata": {
      "needs_background": "light"
     },
     "output_type": "display_data"
    }
   ],
   "source": [
    "sns.boxplot(data=drug_1[['Nscore', 'Escore', 'Oscore', 'Ascore', 'Cscore']]);"
   ]
  },
  {
   "cell_type": "markdown",
   "id": "7cc3308c",
   "metadata": {},
   "source": [
    "### 3.2.3) Target variables\n",
    "- Originally, these variables have 7 categories. We have converted them into binary variables (User vs. Non-user)."
   ]
  },
  {
   "cell_type": "markdown",
   "id": "a99777d1",
   "metadata": {},
   "source": [
    "#### 3.2.3.1) Target variables"
   ]
  },
  {
   "cell_type": "code",
   "execution_count": 39,
   "id": "4f605a2d",
   "metadata": {},
   "outputs": [
    {
     "data": {
      "text/plain": [
       "CL0    1305\n",
       "CL1     210\n",
       "CL2     237\n",
       "CL3      92\n",
       "CL4      24\n",
       "CL5      14\n",
       "CL6       3\n",
       "Name: Amyl, dtype: int64"
      ]
     },
     "execution_count": 39,
     "metadata": {},
     "output_type": "execute_result"
    }
   ],
   "source": [
    "drug_1['Amyl'].value_counts().sort_index()"
   ]
  },
  {
   "cell_type": "code",
   "execution_count": 35,
   "id": "3ff95b51",
   "metadata": {},
   "outputs": [
    {
     "data": {
      "image/png": "[encoded data removed]",
      "text/plain": [
       "<Figure size 432x288 with 1 Axes>"
      ]
     },
     "metadata": {
      "needs_background": "light"
     },
     "output_type": "display_data"
    }
   ],
   "source": [
    "sns.countplot(x='Amyl_binary', data=drug_1)\n",
    "plt.title('Count Plot of Amyl Consumption');"
   ]
  },
  {
   "cell_type": "code",
   "execution_count": 38,
   "id": "4483f564",
   "metadata": {},
   "outputs": [
    {
     "data": {
      "text/plain": [
       "CL0    413\n",
       "CL1    207\n",
       "CL2    266\n",
       "CL3    211\n",
       "CL4    140\n",
       "CL5    185\n",
       "CL6    463\n",
       "Name: Cannabis, dtype: int64"
      ]
     },
     "execution_count": 38,
     "metadata": {},
     "output_type": "execute_result"
    }
   ],
   "source": [
    "drug_1['Cannabis'].value_counts().sort_index()"
   ]
  },
  {
   "cell_type": "code",
   "execution_count": 40,
   "id": "ae02ffa3",
   "metadata": {},
   "outputs": [
    {
     "data": {
      "image/png": "[encoded data removed]",
      "text/plain": [
       "<Figure size 432x288 with 1 Axes>"
      ]
     },
     "metadata": {
      "needs_background": "light"
     },
     "output_type": "display_data"
    }
   ],
   "source": [
    "sns.countplot(x='Cannabis_binary', data=drug_1)\n",
    "plt.title('Count Plot of Cannabis Consumption');"
   ]
  },
  {
   "cell_type": "markdown",
   "id": "6dfbe7e4",
   "metadata": {},
   "source": [
    "#### 3.2.3.2) Target variables across Gender"
   ]
  },
  {
   "cell_type": "code",
   "execution_count": 48,
   "id": "be6372a9",
   "metadata": {
    "scrolled": false
   },
   "outputs": [
    {
     "data": {
      "image/png": "[encoded data removed]",
      "text/plain": [
       "<Figure size 432x288 with 1 Axes>"
      ]
     },
     "metadata": {
      "needs_background": "light"
     },
     "output_type": "display_data"
    }
   ],
   "source": [
    "sns.countplot(x='Gender', hue='Amyl_binary', data=drug_1)\n",
    "plt.title('Amyl Consumption by Gender');"
   ]
  },
  {
   "cell_type": "code",
   "execution_count": 50,
   "id": "97de1468",
   "metadata": {
    "scrolled": true
   },
   "outputs": [
    {
     "data": {
      "image/png": "[encoded data removed]",
      "text/plain": [
       "<Figure size 432x288 with 1 Axes>"
      ]
     },
     "metadata": {
      "needs_background": "light"
     },
     "output_type": "display_data"
    }
   ],
   "source": [
    "sns.countplot(x='Gender', hue='Cannabis_binary', data=drug_1)\n",
    "plt.title('Cannabis Consumption by Gender');"
   ]
  },
  {
   "cell_type": "markdown",
   "id": "d03daaf0",
   "metadata": {},
   "source": [
    "#### 3.2.3.3) Target variables across Country"
   ]
  },
  {
   "cell_type": "code",
   "execution_count": 57,
   "id": "39e7465a",
   "metadata": {},
   "outputs": [],
   "source": [
    "# Write a fucntion to do barplot\n",
    "def plotbar(df, x_var, y_var, drug):\n",
    "    sns.barplot(data=df, x=x_var, y=y_var)\n",
    "    title = drug + \" Consumption by \" + x_var\n",
    "    plt.title(title)"
   ]
  },
  {
   "cell_type": "code",
   "execution_count": 60,
   "id": "d0c40230",
   "metadata": {
    "scrolled": true
   },
   "outputs": [
    {
     "data": {
      "image/png": "[encoded data removed]",
      "text/plain": [
       "<Figure size 432x288 with 1 Axes>"
      ]
     },
     "metadata": {
      "needs_background": "light"
     },
     "output_type": "display_data"
    }
   ],
   "source": [
    "plotbar(drug_1, 'Country', 'Amyl_user', 'Amyl')"
   ]
  },
  {
   "cell_type": "code",
   "execution_count": 61,
   "id": "91627579",
   "metadata": {},
   "outputs": [
    {
     "data": {
      "image/png": "[encoded data removed]",
      "text/plain": [
       "<Figure size 432x288 with 1 Axes>"
      ]
     },
     "metadata": {
      "needs_background": "light"
     },
     "output_type": "display_data"
    }
   ],
   "source": [
    "plotbar(drug_1, 'Country', 'Cannabis_user', 'Cannabis')"
   ]
  },
  {
   "cell_type": "code",
   "execution_count": 72,
   "id": "3107be01",
   "metadata": {},
   "outputs": [
    {
     "data": {
      "text/html": [
       "<div>\n",
       "<style scoped>\n",
       "    .dataframe tbody tr th:only-of-type {\n",
       "        vertical-align: middle;\n",
       "    }\n",
       "\n",
       "    .dataframe tbody tr th {\n",
       "        vertical-align: top;\n",
       "    }\n",
       "\n",
       "    .dataframe thead tr th {\n",
       "        text-align: left;\n",
       "    }\n",
       "\n",
       "    .dataframe thead tr:last-of-type th {\n",
       "        text-align: right;\n",
       "    }\n",
       "</style>\n",
       "<table border=\"1\" class=\"dataframe\">\n",
       "  <thead>\n",
       "    <tr>\n",
       "      <th></th>\n",
       "      <th colspan=\"2\" halign=\"left\">Amyl_user</th>\n",
       "      <th colspan=\"2\" halign=\"left\">Cannabis_user</th>\n",
       "    </tr>\n",
       "    <tr>\n",
       "      <th></th>\n",
       "      <th>count</th>\n",
       "      <th>mean</th>\n",
       "      <th>count</th>\n",
       "      <th>mean</th>\n",
       "    </tr>\n",
       "    <tr>\n",
       "      <th>Country</th>\n",
       "      <th></th>\n",
       "      <th></th>\n",
       "      <th></th>\n",
       "      <th></th>\n",
       "    </tr>\n",
       "  </thead>\n",
       "  <tbody>\n",
       "    <tr>\n",
       "      <th>Australia</th>\n",
       "      <td>54</td>\n",
       "      <td>0.370370</td>\n",
       "      <td>54</td>\n",
       "      <td>0.907407</td>\n",
       "    </tr>\n",
       "    <tr>\n",
       "      <th>Canada</th>\n",
       "      <td>87</td>\n",
       "      <td>0.126437</td>\n",
       "      <td>87</td>\n",
       "      <td>0.770115</td>\n",
       "    </tr>\n",
       "    <tr>\n",
       "      <th>New Zealand</th>\n",
       "      <td>5</td>\n",
       "      <td>0.600000</td>\n",
       "      <td>5</td>\n",
       "      <td>1.000000</td>\n",
       "    </tr>\n",
       "    <tr>\n",
       "      <th>Other</th>\n",
       "      <td>118</td>\n",
       "      <td>0.262712</td>\n",
       "      <td>118</td>\n",
       "      <td>0.847458</td>\n",
       "    </tr>\n",
       "    <tr>\n",
       "      <th>Republic of Ireland</th>\n",
       "      <td>20</td>\n",
       "      <td>0.450000</td>\n",
       "      <td>20</td>\n",
       "      <td>0.800000</td>\n",
       "    </tr>\n",
       "    <tr>\n",
       "      <th>UK</th>\n",
       "      <td>1044</td>\n",
       "      <td>0.217433</td>\n",
       "      <td>1044</td>\n",
       "      <td>0.479885</td>\n",
       "    </tr>\n",
       "    <tr>\n",
       "      <th>USA</th>\n",
       "      <td>557</td>\n",
       "      <td>0.123878</td>\n",
       "      <td>557</td>\n",
       "      <td>0.946140</td>\n",
       "    </tr>\n",
       "  </tbody>\n",
       "</table>\n",
       "</div>"
      ],
      "text/plain": [
       "                    Amyl_user           Cannabis_user          \n",
       "                        count      mean         count      mean\n",
       "Country                                                        \n",
       "Australia                  54  0.370370            54  0.907407\n",
       "Canada                     87  0.126437            87  0.770115\n",
       "New Zealand                 5  0.600000             5  1.000000\n",
       "Other                     118  0.262712           118  0.847458\n",
       "Republic of Ireland        20  0.450000            20  0.800000\n",
       "UK                       1044  0.217433          1044  0.479885\n",
       "USA                       557  0.123878           557  0.946140"
      ]
     },
     "execution_count": 72,
     "metadata": {},
     "output_type": "execute_result"
    }
   ],
   "source": [
    "mean_usage = drug_1[['Country', 'Amyl_user', 'Cannabis_user']].groupby('Country').agg(['count','mean'])\n",
    "mean_usage"
   ]
  },
  {
   "cell_type": "code",
   "execution_count": 70,
   "id": "dbf8c284",
   "metadata": {},
   "outputs": [
    {
     "name": "stderr",
     "output_type": "stream",
     "text": [
      "C:\\Users\\nguye\\AppData\\Local\\Temp/ipykernel_35184/4002290453.py:3: UserWarning: FixedFormatter should only be used together with FixedLocator\n",
      "  ax.set_xticklabels(mean_usage.index, rotation=90)\n"
     ]
    },
    {
     "data": {
      "text/plain": [
       "Text(0, 0.5, 'Fraction that is User')"
      ]
     },
     "execution_count": 70,
     "metadata": {},
     "output_type": "execute_result"
    },
    {
     "data": {
      "image/png": "[encoded data removed]",
      "text/plain": [
       "<Figure size 432x288 with 1 Axes>"
      ]
     },
     "metadata": {
      "needs_background": "light"
     },
     "output_type": "display_data"
    }
   ],
   "source": [
    "fix, ax = plt.subplots()\n",
    "ax.bar(mean_usage.index, mean_usage.Amyl_user)\n",
    "ax.set_xticklabels(mean_usage.index, rotation=90)\n",
    "ax.set_ylabel(\"Fraction that is User\")"
   ]
  },
  {
   "cell_type": "markdown",
   "id": "339793b5",
   "metadata": {},
   "source": [
    "#### 3.2.3.4) Target variables across Education and Age groups\n",
    "- We will calculate correlation in the later section"
   ]
  },
  {
   "cell_type": "code",
   "execution_count": 73,
   "id": "bc03c0d9",
   "metadata": {
    "scrolled": false
   },
   "outputs": [
    {
     "data": {
      "text/html": [
       "<div>\n",
       "<style scoped>\n",
       "    .dataframe tbody tr th:only-of-type {\n",
       "        vertical-align: middle;\n",
       "    }\n",
       "\n",
       "    .dataframe tbody tr th {\n",
       "        vertical-align: top;\n",
       "    }\n",
       "\n",
       "    .dataframe thead tr th {\n",
       "        text-align: left;\n",
       "    }\n",
       "\n",
       "    .dataframe thead tr:last-of-type th {\n",
       "        text-align: right;\n",
       "    }\n",
       "</style>\n",
       "<table border=\"1\" class=\"dataframe\">\n",
       "  <thead>\n",
       "    <tr>\n",
       "      <th></th>\n",
       "      <th colspan=\"2\" halign=\"left\">Amyl_user</th>\n",
       "      <th colspan=\"2\" halign=\"left\">Cannabis_user</th>\n",
       "    </tr>\n",
       "    <tr>\n",
       "      <th></th>\n",
       "      <th>count</th>\n",
       "      <th>mean</th>\n",
       "      <th>count</th>\n",
       "      <th>mean</th>\n",
       "    </tr>\n",
       "    <tr>\n",
       "      <th>Education</th>\n",
       "      <th></th>\n",
       "      <th></th>\n",
       "      <th></th>\n",
       "      <th></th>\n",
       "    </tr>\n",
       "  </thead>\n",
       "  <tbody>\n",
       "    <tr>\n",
       "      <th>Doctorate degree</th>\n",
       "      <td>89</td>\n",
       "      <td>0.213483</td>\n",
       "      <td>89</td>\n",
       "      <td>0.539326</td>\n",
       "    </tr>\n",
       "    <tr>\n",
       "      <th>Left school at 16</th>\n",
       "      <td>99</td>\n",
       "      <td>0.202020</td>\n",
       "      <td>99</td>\n",
       "      <td>0.555556</td>\n",
       "    </tr>\n",
       "    <tr>\n",
       "      <th>Left school at 17</th>\n",
       "      <td>30</td>\n",
       "      <td>0.100000</td>\n",
       "      <td>30</td>\n",
       "      <td>0.766667</td>\n",
       "    </tr>\n",
       "    <tr>\n",
       "      <th>Left school at 18</th>\n",
       "      <td>100</td>\n",
       "      <td>0.170000</td>\n",
       "      <td>100</td>\n",
       "      <td>0.770000</td>\n",
       "    </tr>\n",
       "    <tr>\n",
       "      <th>Left school before 16</th>\n",
       "      <td>28</td>\n",
       "      <td>0.285714</td>\n",
       "      <td>28</td>\n",
       "      <td>0.714286</td>\n",
       "    </tr>\n",
       "    <tr>\n",
       "      <th>Masters degree</th>\n",
       "      <td>283</td>\n",
       "      <td>0.187279</td>\n",
       "      <td>283</td>\n",
       "      <td>0.501767</td>\n",
       "    </tr>\n",
       "    <tr>\n",
       "      <th>Professional certificate</th>\n",
       "      <td>270</td>\n",
       "      <td>0.174074</td>\n",
       "      <td>270</td>\n",
       "      <td>0.574074</td>\n",
       "    </tr>\n",
       "    <tr>\n",
       "      <th>Some college but no degree</th>\n",
       "      <td>506</td>\n",
       "      <td>0.205534</td>\n",
       "      <td>506</td>\n",
       "      <td>0.895257</td>\n",
       "    </tr>\n",
       "    <tr>\n",
       "      <th>University degree</th>\n",
       "      <td>480</td>\n",
       "      <td>0.206250</td>\n",
       "      <td>480</td>\n",
       "      <td>0.608333</td>\n",
       "    </tr>\n",
       "  </tbody>\n",
       "</table>\n",
       "</div>"
      ],
      "text/plain": [
       "                           Amyl_user           Cannabis_user          \n",
       "                               count      mean         count      mean\n",
       "Education                                                             \n",
       "Doctorate degree                  89  0.213483            89  0.539326\n",
       "Left school at 16                 99  0.202020            99  0.555556\n",
       "Left school at 17                 30  0.100000            30  0.766667\n",
       "Left school at 18                100  0.170000           100  0.770000\n",
       "Left school before 16             28  0.285714            28  0.714286\n",
       "Masters degree                   283  0.187279           283  0.501767\n",
       "Professional certificate         270  0.174074           270  0.574074\n",
       "Some college but no degree       506  0.205534           506  0.895257\n",
       "University degree                480  0.206250           480  0.608333"
      ]
     },
     "execution_count": 73,
     "metadata": {},
     "output_type": "execute_result"
    }
   ],
   "source": [
    "mean_usage = drug_1[['Education', 'Amyl_user', 'Cannabis_user']].groupby('Education').agg(['count','mean'])\n",
    "mean_usage"
   ]
  },
  {
   "cell_type": "code",
   "execution_count": 74,
   "id": "79edd765",
   "metadata": {},
   "outputs": [
    {
     "data": {
      "text/html": [
       "<div>\n",
       "<style scoped>\n",
       "    .dataframe tbody tr th:only-of-type {\n",
       "        vertical-align: middle;\n",
       "    }\n",
       "\n",
       "    .dataframe tbody tr th {\n",
       "        vertical-align: top;\n",
       "    }\n",
       "\n",
       "    .dataframe thead tr th {\n",
       "        text-align: left;\n",
       "    }\n",
       "\n",
       "    .dataframe thead tr:last-of-type th {\n",
       "        text-align: right;\n",
       "    }\n",
       "</style>\n",
       "<table border=\"1\" class=\"dataframe\">\n",
       "  <thead>\n",
       "    <tr>\n",
       "      <th></th>\n",
       "      <th colspan=\"2\" halign=\"left\">Amyl_user</th>\n",
       "      <th>Cannabis_user</th>\n",
       "    </tr>\n",
       "    <tr>\n",
       "      <th></th>\n",
       "      <th>count</th>\n",
       "      <th>mean</th>\n",
       "      <th>mean</th>\n",
       "    </tr>\n",
       "    <tr>\n",
       "      <th>Education</th>\n",
       "      <th></th>\n",
       "      <th></th>\n",
       "      <th></th>\n",
       "    </tr>\n",
       "  </thead>\n",
       "  <tbody>\n",
       "    <tr>\n",
       "      <th>Doctorate degree</th>\n",
       "      <td>89</td>\n",
       "      <td>0.213483</td>\n",
       "      <td>0.539326</td>\n",
       "    </tr>\n",
       "    <tr>\n",
       "      <th>Left school at 16</th>\n",
       "      <td>99</td>\n",
       "      <td>0.202020</td>\n",
       "      <td>0.555556</td>\n",
       "    </tr>\n",
       "    <tr>\n",
       "      <th>Left school at 17</th>\n",
       "      <td>30</td>\n",
       "      <td>0.100000</td>\n",
       "      <td>0.766667</td>\n",
       "    </tr>\n",
       "    <tr>\n",
       "      <th>Left school at 18</th>\n",
       "      <td>100</td>\n",
       "      <td>0.170000</td>\n",
       "      <td>0.770000</td>\n",
       "    </tr>\n",
       "    <tr>\n",
       "      <th>Left school before 16</th>\n",
       "      <td>28</td>\n",
       "      <td>0.285714</td>\n",
       "      <td>0.714286</td>\n",
       "    </tr>\n",
       "    <tr>\n",
       "      <th>Masters degree</th>\n",
       "      <td>283</td>\n",
       "      <td>0.187279</td>\n",
       "      <td>0.501767</td>\n",
       "    </tr>\n",
       "    <tr>\n",
       "      <th>Professional certificate</th>\n",
       "      <td>270</td>\n",
       "      <td>0.174074</td>\n",
       "      <td>0.574074</td>\n",
       "    </tr>\n",
       "    <tr>\n",
       "      <th>Some college but no degree</th>\n",
       "      <td>506</td>\n",
       "      <td>0.205534</td>\n",
       "      <td>0.895257</td>\n",
       "    </tr>\n",
       "    <tr>\n",
       "      <th>University degree</th>\n",
       "      <td>480</td>\n",
       "      <td>0.206250</td>\n",
       "      <td>0.608333</td>\n",
       "    </tr>\n",
       "  </tbody>\n",
       "</table>\n",
       "</div>"
      ],
      "text/plain": [
       "                           Amyl_user           Cannabis_user\n",
       "                               count      mean          mean\n",
       "Education                                                   \n",
       "Doctorate degree                  89  0.213483      0.539326\n",
       "Left school at 16                 99  0.202020      0.555556\n",
       "Left school at 17                 30  0.100000      0.766667\n",
       "Left school at 18                100  0.170000      0.770000\n",
       "Left school before 16             28  0.285714      0.714286\n",
       "Masters degree                   283  0.187279      0.501767\n",
       "Professional certificate         270  0.174074      0.574074\n",
       "Some college but no degree       506  0.205534      0.895257\n",
       "University degree                480  0.206250      0.608333"
      ]
     },
     "execution_count": 74,
     "metadata": {},
     "output_type": "execute_result"
    }
   ],
   "source": [
    "drug_1[['Education','Amyl_user','Cannabis_user']].groupby('Education').agg({'Amyl_user':['count','mean'],'Cannabis_user':'mean'})"
   ]
  },
  {
   "cell_type": "markdown",
   "id": "eca73966",
   "metadata": {},
   "source": [
    "## 3.3) Correlation"
   ]
  },
  {
   "cell_type": "markdown",
   "id": "250118e5",
   "metadata": {},
   "source": [
    "### 3.3.1) Correlation matrix and heatmap"
   ]
  },
  {
   "cell_type": "code",
   "execution_count": 76,
   "id": "68108671",
   "metadata": {},
   "outputs": [],
   "source": [
    "col_list = ['Age_value', 'Gender_value', 'Education_value', 'Nscore', 'Escore', 'Oscore', 'Ascore', 'Cscore',\n",
    "       'Impulsive', 'SS', 'Amyl_user', 'Cannabis_user']"
   ]
  },
  {
   "cell_type": "code",
   "execution_count": 79,
   "id": "494242fc",
   "metadata": {},
   "outputs": [
    {
     "data": {
      "text/plain": [
       "<AxesSubplot:>"
      ]
     },
     "execution_count": 79,
     "metadata": {},
     "output_type": "execute_result"
    },
    {
     "data": {
      "image/png": "[encoded data removed]",
      "text/plain": [
       "<Figure size 864x720 with 2 Axes>"
      ]
     },
     "metadata": {
      "needs_background": "light"
     },
     "output_type": "display_data"
    }
   ],
   "source": [
    "# Corrlation headmap\n",
    "plt.subplots(figsize=(12,10))\n",
    "sns.heatmap(drug_1[col_list].corr(), annot=True)"
   ]
  },
  {
   "cell_type": "code",
   "execution_count": 87,
   "id": "f84db2f5",
   "metadata": {
    "scrolled": true
   },
   "outputs": [
    {
     "data": {
      "text/html": [
       "<div>\n",
       "<style scoped>\n",
       "    .dataframe tbody tr th:only-of-type {\n",
       "        vertical-align: middle;\n",
       "    }\n",
       "\n",
       "    .dataframe tbody tr th {\n",
       "        vertical-align: top;\n",
       "    }\n",
       "\n",
       "    .dataframe thead th {\n",
       "        text-align: right;\n",
       "    }\n",
       "</style>\n",
       "<table border=\"1\" class=\"dataframe\">\n",
       "  <thead>\n",
       "    <tr style=\"text-align: right;\">\n",
       "      <th></th>\n",
       "      <th>Age_value</th>\n",
       "      <th>Gender_value</th>\n",
       "      <th>Education_value</th>\n",
       "      <th>Nscore</th>\n",
       "      <th>Escore</th>\n",
       "      <th>Oscore</th>\n",
       "      <th>Ascore</th>\n",
       "      <th>Cscore</th>\n",
       "      <th>Impulsive</th>\n",
       "      <th>SS</th>\n",
       "      <th>Amyl_user</th>\n",
       "      <th>Cannabis_user</th>\n",
       "    </tr>\n",
       "  </thead>\n",
       "  <tbody>\n",
       "    <tr>\n",
       "      <th>Age_value</th>\n",
       "      <td>1.00</td>\n",
       "      <td>0.11</td>\n",
       "      <td>0.16</td>\n",
       "      <td>-0.14</td>\n",
       "      <td>-0.03</td>\n",
       "      <td>-0.23</td>\n",
       "      <td>0.06</td>\n",
       "      <td>0.18</td>\n",
       "      <td>-0.19</td>\n",
       "      <td>-0.33</td>\n",
       "      <td>-0.16</td>\n",
       "      <td>-0.44</td>\n",
       "    </tr>\n",
       "    <tr>\n",
       "      <th>Gender_value</th>\n",
       "      <td>0.11</td>\n",
       "      <td>1.00</td>\n",
       "      <td>0.20</td>\n",
       "      <td>0.07</td>\n",
       "      <td>0.06</td>\n",
       "      <td>-0.13</td>\n",
       "      <td>0.22</td>\n",
       "      <td>0.18</td>\n",
       "      <td>-0.17</td>\n",
       "      <td>-0.24</td>\n",
       "      <td>-0.14</td>\n",
       "      <td>-0.24</td>\n",
       "    </tr>\n",
       "    <tr>\n",
       "      <th>Education_value</th>\n",
       "      <td>0.16</td>\n",
       "      <td>0.20</td>\n",
       "      <td>1.00</td>\n",
       "      <td>-0.10</td>\n",
       "      <td>0.12</td>\n",
       "      <td>0.06</td>\n",
       "      <td>0.09</td>\n",
       "      <td>0.24</td>\n",
       "      <td>-0.13</td>\n",
       "      <td>-0.13</td>\n",
       "      <td>0.00</td>\n",
       "      <td>-0.19</td>\n",
       "    </tr>\n",
       "    <tr>\n",
       "      <th>Nscore</th>\n",
       "      <td>-0.14</td>\n",
       "      <td>0.07</td>\n",
       "      <td>-0.10</td>\n",
       "      <td>1.00</td>\n",
       "      <td>-0.43</td>\n",
       "      <td>0.01</td>\n",
       "      <td>-0.22</td>\n",
       "      <td>-0.39</td>\n",
       "      <td>0.17</td>\n",
       "      <td>0.08</td>\n",
       "      <td>0.03</td>\n",
       "      <td>0.14</td>\n",
       "    </tr>\n",
       "    <tr>\n",
       "      <th>Escore</th>\n",
       "      <td>-0.03</td>\n",
       "      <td>0.06</td>\n",
       "      <td>0.12</td>\n",
       "      <td>-0.43</td>\n",
       "      <td>1.00</td>\n",
       "      <td>0.25</td>\n",
       "      <td>0.16</td>\n",
       "      <td>0.31</td>\n",
       "      <td>0.11</td>\n",
       "      <td>0.21</td>\n",
       "      <td>0.04</td>\n",
       "      <td>-0.04</td>\n",
       "    </tr>\n",
       "    <tr>\n",
       "      <th>Oscore</th>\n",
       "      <td>-0.23</td>\n",
       "      <td>-0.13</td>\n",
       "      <td>0.06</td>\n",
       "      <td>0.01</td>\n",
       "      <td>0.25</td>\n",
       "      <td>1.00</td>\n",
       "      <td>0.04</td>\n",
       "      <td>-0.06</td>\n",
       "      <td>0.28</td>\n",
       "      <td>0.42</td>\n",
       "      <td>0.07</td>\n",
       "      <td>0.35</td>\n",
       "    </tr>\n",
       "    <tr>\n",
       "      <th>Ascore</th>\n",
       "      <td>0.06</td>\n",
       "      <td>0.22</td>\n",
       "      <td>0.09</td>\n",
       "      <td>-0.22</td>\n",
       "      <td>0.16</td>\n",
       "      <td>0.04</td>\n",
       "      <td>1.00</td>\n",
       "      <td>0.25</td>\n",
       "      <td>-0.23</td>\n",
       "      <td>-0.21</td>\n",
       "      <td>-0.07</td>\n",
       "      <td>-0.17</td>\n",
       "    </tr>\n",
       "    <tr>\n",
       "      <th>Cscore</th>\n",
       "      <td>0.18</td>\n",
       "      <td>0.18</td>\n",
       "      <td>0.24</td>\n",
       "      <td>-0.39</td>\n",
       "      <td>0.31</td>\n",
       "      <td>-0.06</td>\n",
       "      <td>0.25</td>\n",
       "      <td>1.00</td>\n",
       "      <td>-0.34</td>\n",
       "      <td>-0.23</td>\n",
       "      <td>-0.10</td>\n",
       "      <td>-0.27</td>\n",
       "    </tr>\n",
       "    <tr>\n",
       "      <th>Impulsive</th>\n",
       "      <td>-0.19</td>\n",
       "      <td>-0.17</td>\n",
       "      <td>-0.13</td>\n",
       "      <td>0.17</td>\n",
       "      <td>0.11</td>\n",
       "      <td>0.28</td>\n",
       "      <td>-0.23</td>\n",
       "      <td>-0.34</td>\n",
       "      <td>1.00</td>\n",
       "      <td>0.62</td>\n",
       "      <td>0.11</td>\n",
       "      <td>0.30</td>\n",
       "    </tr>\n",
       "    <tr>\n",
       "      <th>SS</th>\n",
       "      <td>-0.33</td>\n",
       "      <td>-0.24</td>\n",
       "      <td>-0.13</td>\n",
       "      <td>0.08</td>\n",
       "      <td>0.21</td>\n",
       "      <td>0.42</td>\n",
       "      <td>-0.21</td>\n",
       "      <td>-0.23</td>\n",
       "      <td>0.62</td>\n",
       "      <td>1.00</td>\n",
       "      <td>0.19</td>\n",
       "      <td>0.41</td>\n",
       "    </tr>\n",
       "    <tr>\n",
       "      <th>Amyl_user</th>\n",
       "      <td>-0.16</td>\n",
       "      <td>-0.14</td>\n",
       "      <td>0.00</td>\n",
       "      <td>0.03</td>\n",
       "      <td>0.04</td>\n",
       "      <td>0.07</td>\n",
       "      <td>-0.07</td>\n",
       "      <td>-0.10</td>\n",
       "      <td>0.11</td>\n",
       "      <td>0.19</td>\n",
       "      <td>1.00</td>\n",
       "      <td>0.29</td>\n",
       "    </tr>\n",
       "    <tr>\n",
       "      <th>Cannabis_user</th>\n",
       "      <td>-0.44</td>\n",
       "      <td>-0.24</td>\n",
       "      <td>-0.19</td>\n",
       "      <td>0.14</td>\n",
       "      <td>-0.04</td>\n",
       "      <td>0.35</td>\n",
       "      <td>-0.17</td>\n",
       "      <td>-0.27</td>\n",
       "      <td>0.30</td>\n",
       "      <td>0.41</td>\n",
       "      <td>0.29</td>\n",
       "      <td>1.00</td>\n",
       "    </tr>\n",
       "  </tbody>\n",
       "</table>\n",
       "</div>"
      ],
      "text/plain": [
       "                 Age_value  Gender_value  Education_value  Nscore  Escore  \\\n",
       "Age_value             1.00          0.11             0.16   -0.14   -0.03   \n",
       "Gender_value          0.11          1.00             0.20    0.07    0.06   \n",
       "Education_value       0.16          0.20             1.00   -0.10    0.12   \n",
       "Nscore               -0.14          0.07            -0.10    1.00   -0.43   \n",
       "Escore               -0.03          0.06             0.12   -0.43    1.00   \n",
       "Oscore               -0.23         -0.13             0.06    0.01    0.25   \n",
       "Ascore                0.06          0.22             0.09   -0.22    0.16   \n",
       "Cscore                0.18          0.18             0.24   -0.39    0.31   \n",
       "Impulsive            -0.19         -0.17            -0.13    0.17    0.11   \n",
       "SS                   -0.33         -0.24            -0.13    0.08    0.21   \n",
       "Amyl_user            -0.16         -0.14             0.00    0.03    0.04   \n",
       "Cannabis_user        -0.44         -0.24            -0.19    0.14   -0.04   \n",
       "\n",
       "                 Oscore  Ascore  Cscore  Impulsive    SS  Amyl_user  \\\n",
       "Age_value         -0.23    0.06    0.18      -0.19 -0.33      -0.16   \n",
       "Gender_value      -0.13    0.22    0.18      -0.17 -0.24      -0.14   \n",
       "Education_value    0.06    0.09    0.24      -0.13 -0.13       0.00   \n",
       "Nscore             0.01   -0.22   -0.39       0.17  0.08       0.03   \n",
       "Escore             0.25    0.16    0.31       0.11  0.21       0.04   \n",
       "Oscore             1.00    0.04   -0.06       0.28  0.42       0.07   \n",
       "Ascore             0.04    1.00    0.25      -0.23 -0.21      -0.07   \n",
       "Cscore            -0.06    0.25    1.00      -0.34 -0.23      -0.10   \n",
       "Impulsive          0.28   -0.23   -0.34       1.00  0.62       0.11   \n",
       "SS                 0.42   -0.21   -0.23       0.62  1.00       0.19   \n",
       "Amyl_user          0.07   -0.07   -0.10       0.11  0.19       1.00   \n",
       "Cannabis_user      0.35   -0.17   -0.27       0.30  0.41       0.29   \n",
       "\n",
       "                 Cannabis_user  \n",
       "Age_value                -0.44  \n",
       "Gender_value             -0.24  \n",
       "Education_value          -0.19  \n",
       "Nscore                    0.14  \n",
       "Escore                   -0.04  \n",
       "Oscore                    0.35  \n",
       "Ascore                   -0.17  \n",
       "Cscore                   -0.27  \n",
       "Impulsive                 0.30  \n",
       "SS                        0.41  \n",
       "Amyl_user                 0.29  \n",
       "Cannabis_user             1.00  "
      ]
     },
     "execution_count": 87,
     "metadata": {},
     "output_type": "execute_result"
    }
   ],
   "source": [
    "# Correlation matrix\n",
    "drug_1[col_list].corr().round(2)"
   ]
  },
  {
   "cell_type": "code",
   "execution_count": 85,
   "id": "b186f996",
   "metadata": {
    "scrolled": true
   },
   "outputs": [
    {
     "data": {
      "text/html": [
       "<div>\n",
       "<style scoped>\n",
       "    .dataframe tbody tr th:only-of-type {\n",
       "        vertical-align: middle;\n",
       "    }\n",
       "\n",
       "    .dataframe tbody tr th {\n",
       "        vertical-align: top;\n",
       "    }\n",
       "\n",
       "    .dataframe thead th {\n",
       "        text-align: right;\n",
       "    }\n",
       "</style>\n",
       "<table border=\"1\" class=\"dataframe\">\n",
       "  <thead>\n",
       "    <tr style=\"text-align: right;\">\n",
       "      <th></th>\n",
       "      <th>Age_value</th>\n",
       "      <th>Gender_value</th>\n",
       "      <th>Education_value</th>\n",
       "      <th>Nscore</th>\n",
       "      <th>Escore</th>\n",
       "      <th>Oscore</th>\n",
       "      <th>Ascore</th>\n",
       "      <th>Cscore</th>\n",
       "      <th>Impulsive</th>\n",
       "      <th>SS</th>\n",
       "      <th>Amyl_user</th>\n",
       "      <th>Cannabis_user</th>\n",
       "    </tr>\n",
       "  </thead>\n",
       "  <tbody>\n",
       "    <tr>\n",
       "      <th>Age_value</th>\n",
       "      <td>0.0</td>\n",
       "      <td>0.0</td>\n",
       "      <td>0.0</td>\n",
       "      <td>0.0</td>\n",
       "      <td>0.1418</td>\n",
       "      <td>0.0</td>\n",
       "      <td>0.0058</td>\n",
       "      <td>0.0</td>\n",
       "      <td>0.0</td>\n",
       "      <td>0.0</td>\n",
       "      <td>0.0</td>\n",
       "      <td>0.0</td>\n",
       "    </tr>\n",
       "    <tr>\n",
       "      <th>Gender_value</th>\n",
       "      <td>0.0</td>\n",
       "      <td>0.0</td>\n",
       "      <td>0.0</td>\n",
       "      <td>0.0012</td>\n",
       "      <td>0.012</td>\n",
       "      <td>0.0</td>\n",
       "      <td>0.0</td>\n",
       "      <td>0.0</td>\n",
       "      <td>0.0</td>\n",
       "      <td>0.0</td>\n",
       "      <td>0.0</td>\n",
       "      <td>0.0</td>\n",
       "    </tr>\n",
       "    <tr>\n",
       "      <th>Education_value</th>\n",
       "      <td>0.0</td>\n",
       "      <td>0.0</td>\n",
       "      <td>0.0</td>\n",
       "      <td>0.0</td>\n",
       "      <td>0.0</td>\n",
       "      <td>0.0118</td>\n",
       "      <td>0.0001</td>\n",
       "      <td>0.0</td>\n",
       "      <td>0.0</td>\n",
       "      <td>0.0</td>\n",
       "      <td>0.9984</td>\n",
       "      <td>0.0</td>\n",
       "    </tr>\n",
       "    <tr>\n",
       "      <th>Nscore</th>\n",
       "      <td>0.0</td>\n",
       "      <td>0.0012</td>\n",
       "      <td>0.0</td>\n",
       "      <td>0.0</td>\n",
       "      <td>0.0</td>\n",
       "      <td>0.6588</td>\n",
       "      <td>0.0</td>\n",
       "      <td>0.0</td>\n",
       "      <td>0.0</td>\n",
       "      <td>0.0005</td>\n",
       "      <td>0.1297</td>\n",
       "      <td>0.0</td>\n",
       "    </tr>\n",
       "    <tr>\n",
       "      <th>Escore</th>\n",
       "      <td>0.1418</td>\n",
       "      <td>0.012</td>\n",
       "      <td>0.0</td>\n",
       "      <td>0.0</td>\n",
       "      <td>0.0</td>\n",
       "      <td>0.0</td>\n",
       "      <td>0.0</td>\n",
       "      <td>0.0</td>\n",
       "      <td>0.0</td>\n",
       "      <td>0.0</td>\n",
       "      <td>0.0511</td>\n",
       "      <td>0.0921</td>\n",
       "    </tr>\n",
       "    <tr>\n",
       "      <th>Oscore</th>\n",
       "      <td>0.0</td>\n",
       "      <td>0.0</td>\n",
       "      <td>0.0118</td>\n",
       "      <td>0.6588</td>\n",
       "      <td>0.0</td>\n",
       "      <td>0.0</td>\n",
       "      <td>0.0946</td>\n",
       "      <td>0.0136</td>\n",
       "      <td>0.0</td>\n",
       "      <td>0.0</td>\n",
       "      <td>0.0027</td>\n",
       "      <td>0.0</td>\n",
       "    </tr>\n",
       "    <tr>\n",
       "      <th>Ascore</th>\n",
       "      <td>0.0058</td>\n",
       "      <td>0.0</td>\n",
       "      <td>0.0001</td>\n",
       "      <td>0.0</td>\n",
       "      <td>0.0</td>\n",
       "      <td>0.0946</td>\n",
       "      <td>0.0</td>\n",
       "      <td>0.0</td>\n",
       "      <td>0.0</td>\n",
       "      <td>0.0</td>\n",
       "      <td>0.0045</td>\n",
       "      <td>0.0</td>\n",
       "    </tr>\n",
       "    <tr>\n",
       "      <th>Cscore</th>\n",
       "      <td>0.0</td>\n",
       "      <td>0.0</td>\n",
       "      <td>0.0</td>\n",
       "      <td>0.0</td>\n",
       "      <td>0.0</td>\n",
       "      <td>0.0136</td>\n",
       "      <td>0.0</td>\n",
       "      <td>0.0</td>\n",
       "      <td>0.0</td>\n",
       "      <td>0.0</td>\n",
       "      <td>0.0</td>\n",
       "      <td>0.0</td>\n",
       "    </tr>\n",
       "    <tr>\n",
       "      <th>Impulsive</th>\n",
       "      <td>0.0</td>\n",
       "      <td>0.0</td>\n",
       "      <td>0.0</td>\n",
       "      <td>0.0</td>\n",
       "      <td>0.0</td>\n",
       "      <td>0.0</td>\n",
       "      <td>0.0</td>\n",
       "      <td>0.0</td>\n",
       "      <td>0.0</td>\n",
       "      <td>0.0</td>\n",
       "      <td>0.0</td>\n",
       "      <td>0.0</td>\n",
       "    </tr>\n",
       "    <tr>\n",
       "      <th>SS</th>\n",
       "      <td>0.0</td>\n",
       "      <td>0.0</td>\n",
       "      <td>0.0</td>\n",
       "      <td>0.0005</td>\n",
       "      <td>0.0</td>\n",
       "      <td>0.0</td>\n",
       "      <td>0.0</td>\n",
       "      <td>0.0</td>\n",
       "      <td>0.0</td>\n",
       "      <td>0.0</td>\n",
       "      <td>0.0</td>\n",
       "      <td>0.0</td>\n",
       "    </tr>\n",
       "    <tr>\n",
       "      <th>Amyl_user</th>\n",
       "      <td>0.0</td>\n",
       "      <td>0.0</td>\n",
       "      <td>0.9984</td>\n",
       "      <td>0.1297</td>\n",
       "      <td>0.0511</td>\n",
       "      <td>0.0027</td>\n",
       "      <td>0.0045</td>\n",
       "      <td>0.0</td>\n",
       "      <td>0.0</td>\n",
       "      <td>0.0</td>\n",
       "      <td>0.0</td>\n",
       "      <td>0.0</td>\n",
       "    </tr>\n",
       "    <tr>\n",
       "      <th>Cannabis_user</th>\n",
       "      <td>0.0</td>\n",
       "      <td>0.0</td>\n",
       "      <td>0.0</td>\n",
       "      <td>0.0</td>\n",
       "      <td>0.0921</td>\n",
       "      <td>0.0</td>\n",
       "      <td>0.0</td>\n",
       "      <td>0.0</td>\n",
       "      <td>0.0</td>\n",
       "      <td>0.0</td>\n",
       "      <td>0.0</td>\n",
       "      <td>0.0</td>\n",
       "    </tr>\n",
       "  </tbody>\n",
       "</table>\n",
       "</div>"
      ],
      "text/plain": [
       "                Age_value Gender_value Education_value  Nscore  Escore  \\\n",
       "Age_value             0.0          0.0             0.0     0.0  0.1418   \n",
       "Gender_value          0.0          0.0             0.0  0.0012   0.012   \n",
       "Education_value       0.0          0.0             0.0     0.0     0.0   \n",
       "Nscore                0.0       0.0012             0.0     0.0     0.0   \n",
       "Escore             0.1418        0.012             0.0     0.0     0.0   \n",
       "Oscore                0.0          0.0          0.0118  0.6588     0.0   \n",
       "Ascore             0.0058          0.0          0.0001     0.0     0.0   \n",
       "Cscore                0.0          0.0             0.0     0.0     0.0   \n",
       "Impulsive             0.0          0.0             0.0     0.0     0.0   \n",
       "SS                    0.0          0.0             0.0  0.0005     0.0   \n",
       "Amyl_user             0.0          0.0          0.9984  0.1297  0.0511   \n",
       "Cannabis_user         0.0          0.0             0.0     0.0  0.0921   \n",
       "\n",
       "                 Oscore  Ascore  Cscore Impulsive      SS Amyl_user  \\\n",
       "Age_value           0.0  0.0058     0.0       0.0     0.0       0.0   \n",
       "Gender_value        0.0     0.0     0.0       0.0     0.0       0.0   \n",
       "Education_value  0.0118  0.0001     0.0       0.0     0.0    0.9984   \n",
       "Nscore           0.6588     0.0     0.0       0.0  0.0005    0.1297   \n",
       "Escore              0.0     0.0     0.0       0.0     0.0    0.0511   \n",
       "Oscore              0.0  0.0946  0.0136       0.0     0.0    0.0027   \n",
       "Ascore           0.0946     0.0     0.0       0.0     0.0    0.0045   \n",
       "Cscore           0.0136     0.0     0.0       0.0     0.0       0.0   \n",
       "Impulsive           0.0     0.0     0.0       0.0     0.0       0.0   \n",
       "SS                  0.0     0.0     0.0       0.0     0.0       0.0   \n",
       "Amyl_user        0.0027  0.0045     0.0       0.0     0.0       0.0   \n",
       "Cannabis_user       0.0     0.0     0.0       0.0     0.0       0.0   \n",
       "\n",
       "                Cannabis_user  \n",
       "Age_value                 0.0  \n",
       "Gender_value              0.0  \n",
       "Education_value           0.0  \n",
       "Nscore                    0.0  \n",
       "Escore                 0.0921  \n",
       "Oscore                    0.0  \n",
       "Ascore                    0.0  \n",
       "Cscore                    0.0  \n",
       "Impulsive                 0.0  \n",
       "SS                        0.0  \n",
       "Amyl_user                 0.0  \n",
       "Cannabis_user             0.0  "
      ]
     },
     "execution_count": 85,
     "metadata": {},
     "output_type": "execute_result"
    }
   ],
   "source": [
    "# Matrix for significane level of corr coefficient\n",
    "\n",
    "# stackoverflow code\n",
    "def calculate_pvalues(df):\n",
    "    df = df.dropna()._get_numeric_data()\n",
    "    dfcols = pd.DataFrame(columns=df.columns)\n",
    "    pvalues = dfcols.transpose().join(dfcols, how='outer')\n",
    "    for r in df.columns:\n",
    "        for c in df.columns:\n",
    "            pvalues[r][c] = round(pearsonr(df[r], df[c])[1], 4)\n",
    "    return pvalues\n",
    "\n",
    "calculate_pvalues(drug_1[col_list])"
   ]
  },
  {
   "cell_type": "code",
   "execution_count": 84,
   "id": "e49fb14b",
   "metadata": {},
   "outputs": [
    {
     "data": {
      "text/plain": [
       "(-0.43638567054385957, 1.7534649803898296e-88)"
      ]
     },
     "execution_count": 84,
     "metadata": {},
     "output_type": "execute_result"
    }
   ],
   "source": [
    "pearsonr(drug_1.Age_value, drug_1.Cannabis_user)"
   ]
  },
  {
   "cell_type": "code",
   "execution_count": 86,
   "id": "59ae4217",
   "metadata": {},
   "outputs": [
    {
     "data": {
      "text/html": [
       "<div>\n",
       "<style scoped>\n",
       "    .dataframe tbody tr th:only-of-type {\n",
       "        vertical-align: middle;\n",
       "    }\n",
       "\n",
       "    .dataframe tbody tr th {\n",
       "        vertical-align: top;\n",
       "    }\n",
       "\n",
       "    .dataframe thead th {\n",
       "        text-align: right;\n",
       "    }\n",
       "</style>\n",
       "<table border=\"1\" class=\"dataframe\">\n",
       "  <thead>\n",
       "    <tr style=\"text-align: right;\">\n",
       "      <th></th>\n",
       "      <th>Age_value</th>\n",
       "      <th>Gender_value</th>\n",
       "      <th>Education_value</th>\n",
       "      <th>Nscore</th>\n",
       "      <th>Escore</th>\n",
       "      <th>Oscore</th>\n",
       "      <th>Ascore</th>\n",
       "      <th>Cscore</th>\n",
       "      <th>Impulsive</th>\n",
       "      <th>SS</th>\n",
       "      <th>Amyl_user</th>\n",
       "      <th>Cannabis_user</th>\n",
       "    </tr>\n",
       "  </thead>\n",
       "  <tbody>\n",
       "    <tr>\n",
       "      <th>Age_value</th>\n",
       "      <td>1.0***</td>\n",
       "      <td>0.11***</td>\n",
       "      <td>0.16***</td>\n",
       "      <td>-0.14***</td>\n",
       "      <td>-0.03</td>\n",
       "      <td>-0.23***</td>\n",
       "      <td>0.06***</td>\n",
       "      <td>0.18***</td>\n",
       "      <td>-0.19***</td>\n",
       "      <td>-0.33***</td>\n",
       "      <td>-0.16***</td>\n",
       "      <td>-0.44***</td>\n",
       "    </tr>\n",
       "    <tr>\n",
       "      <th>Gender_value</th>\n",
       "      <td>0.11***</td>\n",
       "      <td>1.0***</td>\n",
       "      <td>0.2***</td>\n",
       "      <td>0.07***</td>\n",
       "      <td>0.06**</td>\n",
       "      <td>-0.13***</td>\n",
       "      <td>0.22***</td>\n",
       "      <td>0.18***</td>\n",
       "      <td>-0.17***</td>\n",
       "      <td>-0.24***</td>\n",
       "      <td>-0.14***</td>\n",
       "      <td>-0.24***</td>\n",
       "    </tr>\n",
       "    <tr>\n",
       "      <th>Education_value</th>\n",
       "      <td>0.16***</td>\n",
       "      <td>0.2***</td>\n",
       "      <td>1.0***</td>\n",
       "      <td>-0.1***</td>\n",
       "      <td>0.12***</td>\n",
       "      <td>0.06**</td>\n",
       "      <td>0.09***</td>\n",
       "      <td>0.24***</td>\n",
       "      <td>-0.13***</td>\n",
       "      <td>-0.13***</td>\n",
       "      <td>0.0</td>\n",
       "      <td>-0.19***</td>\n",
       "    </tr>\n",
       "    <tr>\n",
       "      <th>Nscore</th>\n",
       "      <td>-0.14***</td>\n",
       "      <td>0.07***</td>\n",
       "      <td>-0.1***</td>\n",
       "      <td>1.0***</td>\n",
       "      <td>-0.43***</td>\n",
       "      <td>0.01</td>\n",
       "      <td>-0.22***</td>\n",
       "      <td>-0.39***</td>\n",
       "      <td>0.17***</td>\n",
       "      <td>0.08***</td>\n",
       "      <td>0.03</td>\n",
       "      <td>0.14***</td>\n",
       "    </tr>\n",
       "    <tr>\n",
       "      <th>Escore</th>\n",
       "      <td>-0.03</td>\n",
       "      <td>0.06**</td>\n",
       "      <td>0.12***</td>\n",
       "      <td>-0.43***</td>\n",
       "      <td>1.0***</td>\n",
       "      <td>0.25***</td>\n",
       "      <td>0.16***</td>\n",
       "      <td>0.31***</td>\n",
       "      <td>0.11***</td>\n",
       "      <td>0.21***</td>\n",
       "      <td>0.04*</td>\n",
       "      <td>-0.04*</td>\n",
       "    </tr>\n",
       "    <tr>\n",
       "      <th>Oscore</th>\n",
       "      <td>-0.23***</td>\n",
       "      <td>-0.13***</td>\n",
       "      <td>0.06**</td>\n",
       "      <td>0.01</td>\n",
       "      <td>0.25***</td>\n",
       "      <td>1.0***</td>\n",
       "      <td>0.04*</td>\n",
       "      <td>-0.06**</td>\n",
       "      <td>0.28***</td>\n",
       "      <td>0.42***</td>\n",
       "      <td>0.07***</td>\n",
       "      <td>0.35***</td>\n",
       "    </tr>\n",
       "    <tr>\n",
       "      <th>Ascore</th>\n",
       "      <td>0.06***</td>\n",
       "      <td>0.22***</td>\n",
       "      <td>0.09***</td>\n",
       "      <td>-0.22***</td>\n",
       "      <td>0.16***</td>\n",
       "      <td>0.04*</td>\n",
       "      <td>1.0***</td>\n",
       "      <td>0.25***</td>\n",
       "      <td>-0.23***</td>\n",
       "      <td>-0.21***</td>\n",
       "      <td>-0.07***</td>\n",
       "      <td>-0.17***</td>\n",
       "    </tr>\n",
       "    <tr>\n",
       "      <th>Cscore</th>\n",
       "      <td>0.18***</td>\n",
       "      <td>0.18***</td>\n",
       "      <td>0.24***</td>\n",
       "      <td>-0.39***</td>\n",
       "      <td>0.31***</td>\n",
       "      <td>-0.06**</td>\n",
       "      <td>0.25***</td>\n",
       "      <td>1.0***</td>\n",
       "      <td>-0.34***</td>\n",
       "      <td>-0.23***</td>\n",
       "      <td>-0.1***</td>\n",
       "      <td>-0.27***</td>\n",
       "    </tr>\n",
       "    <tr>\n",
       "      <th>Impulsive</th>\n",
       "      <td>-0.19***</td>\n",
       "      <td>-0.17***</td>\n",
       "      <td>-0.13***</td>\n",
       "      <td>0.17***</td>\n",
       "      <td>0.11***</td>\n",
       "      <td>0.28***</td>\n",
       "      <td>-0.23***</td>\n",
       "      <td>-0.34***</td>\n",
       "      <td>1.0***</td>\n",
       "      <td>0.62***</td>\n",
       "      <td>0.11***</td>\n",
       "      <td>0.3***</td>\n",
       "    </tr>\n",
       "    <tr>\n",
       "      <th>SS</th>\n",
       "      <td>-0.33***</td>\n",
       "      <td>-0.24***</td>\n",
       "      <td>-0.13***</td>\n",
       "      <td>0.08***</td>\n",
       "      <td>0.21***</td>\n",
       "      <td>0.42***</td>\n",
       "      <td>-0.21***</td>\n",
       "      <td>-0.23***</td>\n",
       "      <td>0.62***</td>\n",
       "      <td>1.0***</td>\n",
       "      <td>0.19***</td>\n",
       "      <td>0.41***</td>\n",
       "    </tr>\n",
       "    <tr>\n",
       "      <th>Amyl_user</th>\n",
       "      <td>-0.16***</td>\n",
       "      <td>-0.14***</td>\n",
       "      <td>0.0</td>\n",
       "      <td>0.03</td>\n",
       "      <td>0.04*</td>\n",
       "      <td>0.07***</td>\n",
       "      <td>-0.07***</td>\n",
       "      <td>-0.1***</td>\n",
       "      <td>0.11***</td>\n",
       "      <td>0.19***</td>\n",
       "      <td>1.0***</td>\n",
       "      <td>0.29***</td>\n",
       "    </tr>\n",
       "    <tr>\n",
       "      <th>Cannabis_user</th>\n",
       "      <td>-0.44***</td>\n",
       "      <td>-0.24***</td>\n",
       "      <td>-0.19***</td>\n",
       "      <td>0.14***</td>\n",
       "      <td>-0.04*</td>\n",
       "      <td>0.35***</td>\n",
       "      <td>-0.17***</td>\n",
       "      <td>-0.27***</td>\n",
       "      <td>0.3***</td>\n",
       "      <td>0.41***</td>\n",
       "      <td>0.29***</td>\n",
       "      <td>1.0***</td>\n",
       "    </tr>\n",
       "  </tbody>\n",
       "</table>\n",
       "</div>"
      ],
      "text/plain": [
       "                Age_value Gender_value Education_value    Nscore    Escore  \\\n",
       "Age_value          1.0***      0.11***         0.16***  -0.14***     -0.03   \n",
       "Gender_value      0.11***       1.0***          0.2***   0.07***    0.06**   \n",
       "Education_value   0.16***       0.2***          1.0***   -0.1***   0.12***   \n",
       "Nscore           -0.14***      0.07***         -0.1***    1.0***  -0.43***   \n",
       "Escore              -0.03       0.06**         0.12***  -0.43***    1.0***   \n",
       "Oscore           -0.23***     -0.13***          0.06**      0.01   0.25***   \n",
       "Ascore            0.06***      0.22***         0.09***  -0.22***   0.16***   \n",
       "Cscore            0.18***      0.18***         0.24***  -0.39***   0.31***   \n",
       "Impulsive        -0.19***     -0.17***        -0.13***   0.17***   0.11***   \n",
       "SS               -0.33***     -0.24***        -0.13***   0.08***   0.21***   \n",
       "Amyl_user        -0.16***     -0.14***             0.0      0.03     0.04*   \n",
       "Cannabis_user    -0.44***     -0.24***        -0.19***   0.14***    -0.04*   \n",
       "\n",
       "                   Oscore    Ascore    Cscore Impulsive        SS Amyl_user  \\\n",
       "Age_value        -0.23***   0.06***   0.18***  -0.19***  -0.33***  -0.16***   \n",
       "Gender_value     -0.13***   0.22***   0.18***  -0.17***  -0.24***  -0.14***   \n",
       "Education_value    0.06**   0.09***   0.24***  -0.13***  -0.13***       0.0   \n",
       "Nscore               0.01  -0.22***  -0.39***   0.17***   0.08***      0.03   \n",
       "Escore            0.25***   0.16***   0.31***   0.11***   0.21***     0.04*   \n",
       "Oscore             1.0***     0.04*   -0.06**   0.28***   0.42***   0.07***   \n",
       "Ascore              0.04*    1.0***   0.25***  -0.23***  -0.21***  -0.07***   \n",
       "Cscore            -0.06**   0.25***    1.0***  -0.34***  -0.23***   -0.1***   \n",
       "Impulsive         0.28***  -0.23***  -0.34***    1.0***   0.62***   0.11***   \n",
       "SS                0.42***  -0.21***  -0.23***   0.62***    1.0***   0.19***   \n",
       "Amyl_user         0.07***  -0.07***   -0.1***   0.11***   0.19***    1.0***   \n",
       "Cannabis_user     0.35***  -0.17***  -0.27***    0.3***   0.41***   0.29***   \n",
       "\n",
       "                Cannabis_user  \n",
       "Age_value            -0.44***  \n",
       "Gender_value         -0.24***  \n",
       "Education_value      -0.19***  \n",
       "Nscore                0.14***  \n",
       "Escore                 -0.04*  \n",
       "Oscore                0.35***  \n",
       "Ascore               -0.17***  \n",
       "Cscore               -0.27***  \n",
       "Impulsive              0.3***  \n",
       "SS                    0.41***  \n",
       "Amyl_user             0.29***  \n",
       "Cannabis_user          1.0***  "
      ]
     },
     "execution_count": 86,
     "metadata": {},
     "output_type": "execute_result"
    }
   ],
   "source": [
    "# Correlation with asterisks\n",
    "# stackoverflow code\n",
    "rho = drug_1[col_list].corr()\n",
    "pval = drug_1[col_list].corr(method=lambda x, y: pearsonr(x, y)[1]) - np.eye(*rho.shape)\n",
    "p = pval.applymap(lambda x: ''.join(['*' for t in [0.01,0.05,0.1] if x<=t]))\n",
    "rho.round(2).astype(str) + p"
   ]
  },
  {
   "cell_type": "markdown",
   "id": "455fa828",
   "metadata": {},
   "source": [
    "### 3.3.2) Bivariate charts"
   ]
  },
  {
   "cell_type": "code",
   "execution_count": 88,
   "id": "a325b945",
   "metadata": {},
   "outputs": [
    {
     "data": {
      "text/plain": [
       "<seaborn.axisgrid.FacetGrid at 0x25c8534a820>"
      ]
     },
     "execution_count": 88,
     "metadata": {},
     "output_type": "execute_result"
    },
    {
     "data": {
      "image/png": "[encoded data removed]",
      "text/plain": [
       "<Figure size 360x360 with 1 Axes>"
      ]
     },
     "metadata": {
      "needs_background": "light"
     },
     "output_type": "display_data"
    }
   ],
   "source": [
    "sns.catplot(x='Amyl_user', y='Age_value', data=drug_1, kind=\"box\")"
   ]
  },
  {
   "cell_type": "code",
   "execution_count": 89,
   "id": "4a7f0e76",
   "metadata": {},
   "outputs": [
    {
     "data": {
      "text/plain": [
       "<AxesSubplot:xlabel='Amyl_user', ylabel='Age_value'>"
      ]
     },
     "execution_count": 89,
     "metadata": {},
     "output_type": "execute_result"
    },
    {
     "data": {
      "image/png": "[encoded data removed]",
      "text/plain": [
       "<Figure size 432x288 with 1 Axes>"
      ]
     },
     "metadata": {
      "needs_background": "light"
     },
     "output_type": "display_data"
    }
   ],
   "source": [
    "sns.scatterplot(x='Amyl_user', y='Age_value', data=drug_1)"
   ]
  },
  {
   "cell_type": "code",
   "execution_count": 90,
   "id": "f8ba6077",
   "metadata": {
    "scrolled": true
   },
   "outputs": [
    {
     "data": {
      "text/plain": [
       "<seaborn.axisgrid.FacetGrid at 0x25c8532e760>"
      ]
     },
     "execution_count": 90,
     "metadata": {},
     "output_type": "execute_result"
    },
    {
     "data": {
      "image/png": "[encoded data removed]",
      "text/plain": [
       "<Figure size 360x360 with 1 Axes>"
      ]
     },
     "metadata": {
      "needs_background": "light"
     },
     "output_type": "display_data"
    }
   ],
   "source": [
    "sns.catplot(x='Amyl_user', y='SS', data=drug_1, kind=\"box\")"
   ]
  },
  {
   "cell_type": "code",
   "execution_count": 91,
   "id": "ecf64f0c",
   "metadata": {},
   "outputs": [
    {
     "data": {
      "text/plain": [
       "<seaborn.axisgrid.FacetGrid at 0x25c8454e580>"
      ]
     },
     "execution_count": 91,
     "metadata": {},
     "output_type": "execute_result"
    },
    {
     "data": {
      "image/png": "[encoded data removed]",
      "text/plain": [
       "<Figure size 360x360 with 1 Axes>"
      ]
     },
     "metadata": {
      "needs_background": "light"
     },
     "output_type": "display_data"
    }
   ],
   "source": [
    "sns.catplot(x='Cannabis_user', y='Oscore', data=drug_1, kind=\"box\")"
   ]
  },
  {
   "cell_type": "code",
   "execution_count": null,
   "id": "6e046628",
   "metadata": {},
   "outputs": [],
   "source": []
  },
  {
   "cell_type": "code",
   "execution_count": null,
   "id": "3836dd91",
   "metadata": {},
   "outputs": [],
   "source": []
  },
  {
   "cell_type": "code",
   "execution_count": null,
   "id": "57c8856c",
   "metadata": {},
   "outputs": [],
   "source": []
  },
  {
   "cell_type": "code",
   "execution_count": null,
   "id": "50c1379b",
   "metadata": {},
   "outputs": [],
   "source": []
  },
  {
   "cell_type": "code",
   "execution_count": null,
   "id": "d14752e0",
   "metadata": {},
   "outputs": [],
   "source": [
    "Start from here to do correlation \n",
    "Start from here to do correlation \n",
    "Start from here to do correlation \n",
    "heatmap\n",
    "heatmap"
   ]
  },
  {
   "cell_type": "code",
   "execution_count": null,
   "id": "3d335b75",
   "metadata": {},
   "outputs": [],
   "source": []
  },
  {
   "cell_type": "code",
   "execution_count": null,
   "id": "2f3bee46",
   "metadata": {},
   "outputs": [],
   "source": []
  },
  {
   "cell_type": "code",
   "execution_count": 16,
   "id": "64eeeacb",
   "metadata": {
    "scrolled": true
   },
   "outputs": [
    {
     "data": {
      "text/plain": [
       "Index(['ID', 'Age_value', 'Gender_value', 'Education_value', 'Country_value',\n",
       "       'Ethnicity_value', 'Nscore', 'Escore', 'Oscore', 'Ascore', 'Cscore',\n",
       "       'Impulsive', 'SS', 'Amyl', 'Cannabis', 'Age', 'Gender',\n",
       "       'Education_level', 'Education', 'Country', 'Ethnicity', 'Age_level',\n",
       "       'Amyl_binary', 'Amyl_user', 'Cannabis_binary', 'Cannabis_user'],\n",
       "      dtype='object')"
      ]
     },
     "execution_count": 16,
     "metadata": {},
     "output_type": "execute_result"
    }
   ],
   "source": [
    "drug_1.columns"
   ]
  }
 ],
 "metadata": {
  "kernelspec": {
   "display_name": "Python 3 (ipykernel)",
   "language": "python",
   "name": "python3"
  },
  "language_info": {
   "codemirror_mode": {
    "name": "ipython",
    "version": 3
   },
   "file_extension": ".py",
   "mimetype": "text/x-python",
   "name": "python",
   "nbconvert_exporter": "python",
   "pygments_lexer": "ipython3",
   "version": "3.9.7"
  }
 },
 "nbformat": 4,
 "nbformat_minor": 5
}
